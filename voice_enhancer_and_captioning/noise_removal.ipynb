{
  "cells": [
    {
      "cell_type": "markdown",
      "metadata": {
        "id": "view-in-github",
        "colab_type": "text"
      },
      "source": [
        "<a href=\"https://colab.research.google.com/github/rishabh-2005/IITISoC-ML-05/blob/main/voice_enhancer_and_captioning/noise_removal.ipynb\" target=\"_parent\"><img src=\"https://colab.research.google.com/assets/colab-badge.svg\" alt=\"Open In Colab\"/></a>"
      ]
    },
    {
      "cell_type": "code",
      "execution_count": null,
      "metadata": {
        "id": "L54xSwXvfK6r"
      },
      "outputs": [],
      "source": [
        "from functools import lru_cache"
      ]
    },
    {
      "cell_type": "code",
      "execution_count": null,
      "metadata": {
        "id": "rOWkAaYWvMDs"
      },
      "outputs": [],
      "source": [
        "!pip install fastapi uvicorn python-multipart\n",
        "from fastapi import FastAPI, File, UploadFile, Form\n",
        "from fastapi.responses import FileResponse\n",
        "import os"
      ]
    },
    {
      "cell_type": "code",
      "execution_count": null,
      "metadata": {
        "id": "6Tqlht91vSg8"
      },
      "outputs": [],
      "source": [
        "app = FastAPI()"
      ]
    },
    {
      "cell_type": "code",
      "execution_count": null,
      "metadata": {
        "id": "JhXaifZO7jd3"
      },
      "outputs": [],
      "source": [
        "from fastapi import FastAPI, Request\n",
        "from fastapi.responses import HTMLResponse\n",
        "\n",
        "# Assuming 'app = FastAPI()' is already defined\n",
        "\n",
        "@app.get(\"/\", response_class=HTMLResponse)\n",
        "async def read_root():\n",
        "    html_content = \"\"\"\n",
        "    <!DOCTYPE html>\n",
        "<html>\n",
        "<head>\n",
        "    <title>Cloudinary Video Denoiser</title>\n",
        "    <style>\n",
        "        #loading {\n",
        "            display: none;\n",
        "            font-weight: bold;\n",
        "            color: #555;\n",
        "        }\n",
        "    </style>\n",
        "</head>\n",
        "<body>\n",
        "    <h1>Denoise Video from Cloudinary Link</h1>\n",
        "\n",
        "    <form id=\"cloudinaryForm\">\n",
        "        Cloudinary Video URL:<br>\n",
        "        <input type=\"text\" name=\"video_url\" id=\"videoURL\" required size=\"80\"><br><br>\n",
        "\n",
        "        Volume (0–100):<br>\n",
        "        <input type=\"number\" name=\"volume\" id=\"volume\" value=\"50\" min=\"0\" max=\"100\"><br><br>\n",
        "\n",
        "        Generate Subtitles:\n",
        "        <input type=\"checkbox\" name=\"gen_sub\" id=\"genSub\"><br><br>\n",
        "\n",
        "        <button type=\"submit\" id=\"submitBtn\">Denoise</button>\n",
        "    </form>\n",
        "\n",
        "    <div id=\"loading\">⏳ Denoising in progress... please wait</div>\n",
        "\n",
        "    <h2>Output Video:</h2>\n",
        "    <video id=\"outputVideo\" width=\"400\" controls></video>\n",
        "\n",
        "    <script>\n",
        "    document.getElementById(\"cloudinaryForm\").addEventListener(\"submit\", async function(e) {\n",
        "        e.preventDefault();\n",
        "\n",
        "        const videoURL = document.getElementById(\"videoURL\").value;\n",
        "        const volume = document.getElementById(\"volume\").value;\n",
        "        const genSub = document.getElementById(\"genSub\").checked;\n",
        "\n",
        "        const formData = new FormData();\n",
        "        formData.append(\"video_url\", videoURL);\n",
        "        formData.append(\"volume\", volume);\n",
        "        formData.append(\"gen_sub\", genSub);\n",
        "\n",
        "        // Show loading\n",
        "        document.getElementById(\"loading\").style.display = \"block\";\n",
        "        document.getElementById(\"submitBtn\").disabled = true;\n",
        "\n",
        "        try {\n",
        "            const response = await fetch(\"/denoise/\", {\n",
        "                method: \"POST\",\n",
        "                body: formData\n",
        "            });\n",
        "\n",
        "            if (!response.ok) {\n",
        "                throw new Error(\"Server error\");\n",
        "            }\n",
        "\n",
        "            const blob = await response.blob();\n",
        "            const outputUrl = URL.createObjectURL(blob);\n",
        "\n",
        "            document.getElementById(\"outputVideo\").src = outputUrl + \"?t=\" + new Date().getTime();\n",
        "        } catch (err) {\n",
        "            alert(\"Error: \" + err.message);\n",
        "            console.error(err);\n",
        "        } finally {\n",
        "            document.getElementById(\"loading\").style.display = \"none\";\n",
        "            document.getElementById(\"submitBtn\").disabled = false;\n",
        "        }\n",
        "    });\n",
        "    </script>\n",
        "</body>\n",
        "</html>\n",
        "    \"\"\"\n",
        "    return HTMLResponse(content=html_content, status_code=200)"
      ]
    },
    {
      "cell_type": "code",
      "execution_count": null,
      "metadata": {
        "collapsed": true,
        "id": "NJ1arLbdcQMX"
      },
      "outputs": [],
      "source": [
        "!pip install voicefixer"
      ]
    },
    {
      "cell_type": "code",
      "execution_count": null,
      "metadata": {
        "collapsed": true,
        "id": "Sj9ZgV8PTm68"
      },
      "outputs": [],
      "source": [
        "!pip install faster-whisper"
      ]
    },
    {
      "cell_type": "code",
      "execution_count": null,
      "metadata": {
        "id": "zsO51GNyYqOX"
      },
      "outputs": [],
      "source": [
        "from faster_whisper import WhisperModel"
      ]
    },
    {
      "cell_type": "code",
      "execution_count": null,
      "metadata": {
        "id": "G7BH8pz-dBRd"
      },
      "outputs": [],
      "source": [
        "from voicefixer import VoiceFixer"
      ]
    },
    {
      "cell_type": "code",
      "execution_count": null,
      "metadata": {
        "id": "LfW-Os0hZrdG"
      },
      "outputs": [],
      "source": [
        "!pip install ffmpeg-python\n",
        "import ffmpeg"
      ]
    },
    {
      "cell_type": "code",
      "execution_count": null,
      "metadata": {
        "id": "msKYQxe5YCEv"
      },
      "outputs": [],
      "source": [
        "import math"
      ]
    },
    {
      "cell_type": "code",
      "execution_count": null,
      "metadata": {
        "id": "oMX0sMP4idQ6"
      },
      "outputs": [],
      "source": [
        "print(\"Initializing VoiceFixer...\")\n",
        "vf = VoiceFixer()"
      ]
    },
    {
      "cell_type": "code",
      "execution_count": null,
      "metadata": {
        "id": "H6GoATEseIkb"
      },
      "outputs": [],
      "source": [
        "from moviepy.editor import VideoFileClip\n",
        "#@lru_cache(maxsize=None)\n",
        "def extract_audio_from_video(mp4_path, wav_output_path):\n",
        "    print(\"Executing extract_audio_from_video...\")\n",
        "    # Load video file\n",
        "    video = VideoFileClip(mp4_path)\n",
        "\n",
        "    # Extract and write audio to .wav\n",
        "    audio = video.audio\n",
        "    if audio is None:\n",
        "        raise ValueError(\"No audio stream found in the video.\")\n",
        "\n",
        "    audio.write_audiofile(wav_output_path, codec='pcm_s16le')  # WAV format\n",
        "\n"
      ]
    },
    {
      "cell_type": "code",
      "execution_count": null,
      "metadata": {
        "id": "EihQERBieXan"
      },
      "outputs": [],
      "source": [
        "def restore():\n",
        "  print(\"Processing...\")\n",
        "  vf.restore(input=\"input_audio.wav\", # low quality .wav/.flac file\n",
        "                       output=\"outfile.wav\", # save file path\n",
        "                       cuda=False, # GPU acceleration\n",
        "                       mode=0)\n",
        "  print(\"Done. Saved as outfile.wav\")\n"
      ]
    },
    {
      "cell_type": "code",
      "execution_count": null,
      "metadata": {
        "id": "KynosQWLfzUG"
      },
      "outputs": [],
      "source": [
        "from re import S\n",
        "from pydub import AudioSegment\n",
        "#@lru_cache(maxsize=None)\n",
        "def volume_adjust(slider):\n",
        "    # Load the audio files\n",
        "    input_audio = AudioSegment.from_wav(\"input_audio.wav\")\n",
        "    outfile_audio = AudioSegment.from_wav(\"outfile.wav\")\n",
        "\n",
        "    audio = AudioSegment.from_wav(\"input_audio.wav\")\n",
        "    average_volume = audio.dBFS\n",
        "    x = (100-slider)/100 * 2 * average_volume\n",
        "\n",
        "    adjusted_input_audio = input_audio.apply_gain(x)\n",
        "\n",
        "    # Here, we start the overlay at the beginning (position=0).\n",
        "    combined_audio = adjusted_input_audio.overlay(outfile_audio, position=0)\n",
        "\n",
        "    # Export the combined audio\n",
        "    combined_audio.export(\"combined_audio.wav\", format=\"wav\")\n",
        "    return \"combined_audio.wav\"\n",
        "\n",
        "\n",
        "#some code to take the value of slider 0-100 from WEBDEV side and feed it to the volume adjust function\n"
      ]
    },
    {
      "cell_type": "code",
      "execution_count": null,
      "metadata": {
        "id": "gGwMKPOtUCcb"
      },
      "outputs": [],
      "source": [
        "#@lru_cache(maxsize=None)\n",
        "def transcribe(audio):\n",
        "    print(\"Transcribing...\")\n",
        "    model = WhisperModel(\"small\")\n",
        "    segments, info = model.transcribe(audio)\n",
        "    language = info.language\n",
        "    print(\"Transcription language\", language)\n",
        "    transcribed_text = \"\"\n",
        "    segments = list(segments)\n",
        "    for segment in segments:\n",
        "        transcribed_text += segment.text + \"\\n\"\n",
        "    return language, segments, transcribed_text"
      ]
    },
    {
      "cell_type": "code",
      "execution_count": null,
      "metadata": {
        "id": "v7uwOiEWU1ya"
      },
      "outputs": [],
      "source": [
        "#@lru_cache(maxsize=None)\n",
        "def format_time(seconds):\n",
        "\n",
        "    hours = math.floor(seconds / 3600)\n",
        "    seconds %= 3600\n",
        "    minutes = math.floor(seconds / 60)\n",
        "    seconds %= 60\n",
        "    milliseconds = round((seconds - math.floor(seconds)) * 1000)\n",
        "    seconds = math.floor(seconds)\n",
        "    formatted_time = f\"{hours:02d}:{minutes:02d}:{seconds:01d},{milliseconds:03d}\"\n",
        "\n",
        "    return formatted_time"
      ]
    },
    {
      "cell_type": "code",
      "execution_count": null,
      "metadata": {
        "id": "7lD3yxy9UysA"
      },
      "outputs": [],
      "source": [
        "def generate_subtitle_file(language, segments):\n",
        "\n",
        "    subtitle_file = f\"sub-{input}.{language}.srt\"\n",
        "    text = \"\"\n",
        "    for index, segment in enumerate(segments):\n",
        "        segment_start = format_time(segment.start)\n",
        "        segment_end = format_time(segment.end)\n",
        "        text += f\"{str(index+1)} \\n\"\n",
        "        text += f\"{segment_start} --> {segment_end} \\n\"\n",
        "        text += f\"{segment.text} \\n\"\n",
        "        text += \"\\n\"\n",
        "\n",
        "    f = open(subtitle_file, \"w\")\n",
        "    f.write(text)\n",
        "    f.close()\n",
        "\n",
        "    return subtitle_file"
      ]
    },
    {
      "cell_type": "code",
      "execution_count": null,
      "metadata": {
        "id": "YgwCdplMU_5f"
      },
      "outputs": [],
      "source": [
        "def add_subtitle_to_video(soft_subtitle, subtitle_file,  subtitle_language):\n",
        "\n",
        "    video_input_stream = ffmpeg.input(\"output_no_sub.mp4\")\n",
        "    subtitle_input_stream = ffmpeg.input(subtitle_file)\n",
        "    output_video = f\"output_sub.mp4\"\n",
        "    subtitle_track_title = subtitle_file.replace(\".srt\", \"\")\n",
        "\n",
        "    if soft_subtitle:\n",
        "        stream = ffmpeg.output(\n",
        "            video_input_stream, subtitle_input_stream, output_video, **{\"c\": \"copy\", \"c:s\": \"mov_text\"},\n",
        "            **{\"metadata:s:s:0\": f\"language={subtitle_language}\",\n",
        "            \"metadata:s:s:0\": f\"title={subtitle_track_title}\"}\n",
        "        )\n",
        "        ffmpeg.run(stream, overwrite_output=True)\n",
        "    else:\n",
        "        stream = ffmpeg.output(video_input_stream, output_video,\n",
        "\n",
        "                               vf=f\"subtitles={subtitle_file}\")\n",
        "\n",
        "        ffmpeg.run(stream, overwrite_output=True)"
      ]
    },
    {
      "cell_type": "code",
      "execution_count": null,
      "metadata": {
        "id": "G6b3ERHxUOOC"
      },
      "outputs": [],
      "source": [
        "def gen_subtitle():\n",
        "    language, segments, text = transcribe(audio=\"outfile.wav\")\n",
        "    subtitle_file = generate_subtitle_file(\n",
        "    language=language,\n",
        "    segments=segments\n",
        "    )\n",
        "    add_subtitle_to_video(\n",
        "        soft_subtitle=False,\n",
        "        subtitle_file=subtitle_file,\n",
        "        subtitle_language=language\n",
        "    )\n",
        "\n"
      ]
    },
    {
      "cell_type": "code",
      "execution_count": null,
      "metadata": {
        "id": "9tnl8RhOf5gq"
      },
      "outputs": [],
      "source": [
        "from moviepy.editor import VideoFileClip, AudioFileClip\n",
        "\n",
        "def replace_audio_in_video(video_path, wav_audio_path, output_path):\n",
        "    # Load the original video and new audio\n",
        "    video = VideoFileClip(video_path)\n",
        "    new_audio = AudioFileClip(wav_audio_path)\n",
        "\n",
        "    # Set new audio to the video\n",
        "    video_with_audio = video.set_audio(new_audio)\n",
        "\n",
        "    # Write the output video\n",
        "    video_with_audio.write_videofile(output_path, codec='libx264', audio_codec='aac')\n"
      ]
    },
    {
      "cell_type": "code",
      "execution_count": null,
      "metadata": {
        "id": "HIr_04P1d_0p"
      },
      "outputs": [],
      "source": [
        "def denoise(input_file_path, volume, gen_sub):\n",
        "  extract_audio_from_video(input_file_path, \"input_audio.wav\")\n",
        "  restore()\n",
        "  volume_adjust(volume)\n",
        "  replace_audio_in_video(input_file_path, \"combined_audio.wav\", \"output_no_sub.mp4\")\n",
        "  if(gen_sub):\n",
        "    gen_subtitle()\n"
      ]
    },
    {
      "cell_type": "code",
      "execution_count": null,
      "metadata": {
        "id": "l_J7xQ9CvYqQ"
      },
      "outputs": [],
      "source": [
        "import requests\n",
        "@app.post(\"/denoise/\")\n",
        "async def denoise_video(\n",
        "    video_url: str = Form(...),\n",
        "    volume: int = Form(0),\n",
        "    gen_sub: bool = Form(False)\n",
        "):\n",
        "    try:\n",
        "        # Save the uploaded file\n",
        "        input_path = \"input_url_video.mp4\"\n",
        "        response = requests.get(video_url, stream=True)\n",
        "        if response.status_code != 200:\n",
        "            return {\"error\": f\"Failed to download video. Status code: {response.status_code}\"}\n",
        "\n",
        "        with open(input_path, \"wb\") as f:\n",
        "            for chunk in response.iter_content(chunk_size=8192):\n",
        "                f.write(chunk)\n",
        "\n",
        "        # Call your denoise function\n",
        "        denoise(input_path, volume, gen_sub)\n",
        "\n",
        "        # Determine the output file name based on subtitle generation\n",
        "        output_file_name = \"output_sub.mp4\" if gen_sub else \"output_no_sub.mp4\"\n",
        "\n",
        "        # Return the processed video file\n",
        "        return FileResponse(output_file_name, media_type='video/mp4')\n",
        "\n",
        "    except Exception as e:\n",
        "        return {\"error\": str(e)}"
      ]
    },
    {
      "cell_type": "code",
      "execution_count": null,
      "metadata": {
        "collapsed": true,
        "id": "Q02ErS-owpEw"
      },
      "outputs": [],
      "source": [
        "!pip install nest_asyncio\n",
        "import nest_asyncio\n",
        "\n",
        "nest_asyncio.apply()"
      ]
    },
    {
      "cell_type": "code",
      "execution_count": null,
      "metadata": {
        "collapsed": true,
        "id": "Bg6WlWxk3G9G"
      },
      "outputs": [],
      "source": [
        "!pip install pyngrok"
      ]
    },
    {
      "cell_type": "code",
      "execution_count": null,
      "metadata": {
        "id": "0nM1o9M3-cHf"
      },
      "outputs": [],
      "source": [
        "!ngrok kill"
      ]
    },
    {
      "cell_type": "code",
      "execution_count": null,
      "metadata": {
        "collapsed": true,
        "id": "n6xkXPOJ3kTP"
      },
      "outputs": [],
      "source": [
        "import threading\n",
        "import uvicorn\n",
        "from pyngrok import ngrok\n",
        "ngrok.set_auth_token(YOUR_NGROK_AUTHTOKEN)\n",
        "# Start FastAPI server in background\n",
        "\n",
        "def run():\n",
        "    uvicorn.run(app, host=\"0.0.0.0\", port=8001)\n",
        "\n",
        "thread = threading.Thread(target=run)\n",
        "thread.start()\n",
        "thread.join(timeout=1.0)\n",
        "#  Start ngrok tunnel\n",
        "ngrok.kill()\n",
        "public_url = ngrok.connect(8001)\n",
        "print(\"🚀 Public URL:\", public_url)"
      ]
    }
  ],
  "metadata": {
    "colab": {
      "provenance": [],
      "include_colab_link": true
    },
    "kernelspec": {
      "display_name": "Python 3",
      "name": "python3"
    },
    "language_info": {
      "name": "python"
    }
  },
  "nbformat": 4,
  "nbformat_minor": 0
}