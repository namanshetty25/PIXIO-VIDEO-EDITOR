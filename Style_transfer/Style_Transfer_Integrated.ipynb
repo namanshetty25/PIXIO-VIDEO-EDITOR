{
  "nbformat": 4,
  "nbformat_minor": 0,
  "metadata": {
    "colab": {
      "provenance": [],
      "gpuType": "T4"
    },
    "kernelspec": {
      "name": "python3",
      "display_name": "Python 3"
    },
    "language_info": {
      "name": "python"
    },
    "accelerator": "GPU"
  },
  "cells": [
    {
      "cell_type": "code",
      "execution_count": null,
      "metadata": {
        "colab": {
          "base_uri": "https://localhost:8080/"
        },
        "id": "7zHaBaF2mWND",
        "outputId": "713701d7-2d22-4fd7-c685-fd8bd2b3ffb6"
      },
      "outputs": [
        {
          "output_type": "stream",
          "name": "stdout",
          "text": [
            "Requirement already satisfied: fastapi in /usr/local/lib/python3.11/dist-packages (0.115.13)\n",
            "Requirement already satisfied: uvicorn in /usr/local/lib/python3.11/dist-packages (0.34.3)\n",
            "Requirement already satisfied: python-multipart in /usr/local/lib/python3.11/dist-packages (0.0.20)\n",
            "Requirement already satisfied: pyngrok in /usr/local/lib/python3.11/dist-packages (7.2.11)\n",
            "Requirement already satisfied: tensorflow in /usr/local/lib/python3.11/dist-packages (2.18.0)\n",
            "Requirement already satisfied: tensorflow-hub in /usr/local/lib/python3.11/dist-packages (0.16.1)\n",
            "Requirement already satisfied: opencv-python-headless in /usr/local/lib/python3.11/dist-packages (4.11.0.86)\n",
            "Requirement already satisfied: starlette<0.47.0,>=0.40.0 in /usr/local/lib/python3.11/dist-packages (from fastapi) (0.46.2)\n",
            "Requirement already satisfied: pydantic!=1.8,!=1.8.1,!=2.0.0,!=2.0.1,!=2.1.0,<3.0.0,>=1.7.4 in /usr/local/lib/python3.11/dist-packages (from fastapi) (2.11.7)\n",
            "Requirement already satisfied: typing-extensions>=4.8.0 in /usr/local/lib/python3.11/dist-packages (from fastapi) (4.14.0)\n",
            "Requirement already satisfied: click>=7.0 in /usr/local/lib/python3.11/dist-packages (from uvicorn) (8.2.1)\n",
            "Requirement already satisfied: h11>=0.8 in /usr/local/lib/python3.11/dist-packages (from uvicorn) (0.16.0)\n",
            "Requirement already satisfied: PyYAML>=5.1 in /usr/local/lib/python3.11/dist-packages (from pyngrok) (6.0.2)\n",
            "Requirement already satisfied: absl-py>=1.0.0 in /usr/local/lib/python3.11/dist-packages (from tensorflow) (1.4.0)\n",
            "Requirement already satisfied: astunparse>=1.6.0 in /usr/local/lib/python3.11/dist-packages (from tensorflow) (1.6.3)\n",
            "Requirement already satisfied: flatbuffers>=24.3.25 in /usr/local/lib/python3.11/dist-packages (from tensorflow) (25.2.10)\n",
            "Requirement already satisfied: gast!=0.5.0,!=0.5.1,!=0.5.2,>=0.2.1 in /usr/local/lib/python3.11/dist-packages (from tensorflow) (0.6.0)\n",
            "Requirement already satisfied: google-pasta>=0.1.1 in /usr/local/lib/python3.11/dist-packages (from tensorflow) (0.2.0)\n",
            "Requirement already satisfied: libclang>=13.0.0 in /usr/local/lib/python3.11/dist-packages (from tensorflow) (18.1.1)\n",
            "Requirement already satisfied: opt-einsum>=2.3.2 in /usr/local/lib/python3.11/dist-packages (from tensorflow) (3.4.0)\n",
            "Requirement already satisfied: packaging in /usr/local/lib/python3.11/dist-packages (from tensorflow) (24.2)\n",
            "Requirement already satisfied: protobuf!=4.21.0,!=4.21.1,!=4.21.2,!=4.21.3,!=4.21.4,!=4.21.5,<6.0.0dev,>=3.20.3 in /usr/local/lib/python3.11/dist-packages (from tensorflow) (5.29.5)\n",
            "Requirement already satisfied: requests<3,>=2.21.0 in /usr/local/lib/python3.11/dist-packages (from tensorflow) (2.32.3)\n",
            "Requirement already satisfied: setuptools in /usr/local/lib/python3.11/dist-packages (from tensorflow) (75.2.0)\n",
            "Requirement already satisfied: six>=1.12.0 in /usr/local/lib/python3.11/dist-packages (from tensorflow) (1.17.0)\n",
            "Requirement already satisfied: termcolor>=1.1.0 in /usr/local/lib/python3.11/dist-packages (from tensorflow) (3.1.0)\n",
            "Requirement already satisfied: wrapt>=1.11.0 in /usr/local/lib/python3.11/dist-packages (from tensorflow) (1.17.2)\n",
            "Requirement already satisfied: grpcio<2.0,>=1.24.3 in /usr/local/lib/python3.11/dist-packages (from tensorflow) (1.73.0)\n",
            "Requirement already satisfied: tensorboard<2.19,>=2.18 in /usr/local/lib/python3.11/dist-packages (from tensorflow) (2.18.0)\n",
            "Requirement already satisfied: keras>=3.5.0 in /usr/local/lib/python3.11/dist-packages (from tensorflow) (3.8.0)\n",
            "Requirement already satisfied: numpy<2.1.0,>=1.26.0 in /usr/local/lib/python3.11/dist-packages (from tensorflow) (2.0.2)\n",
            "Requirement already satisfied: h5py>=3.11.0 in /usr/local/lib/python3.11/dist-packages (from tensorflow) (3.14.0)\n",
            "Requirement already satisfied: ml-dtypes<0.5.0,>=0.4.0 in /usr/local/lib/python3.11/dist-packages (from tensorflow) (0.4.1)\n",
            "Requirement already satisfied: tensorflow-io-gcs-filesystem>=0.23.1 in /usr/local/lib/python3.11/dist-packages (from tensorflow) (0.37.1)\n",
            "Requirement already satisfied: tf-keras>=2.14.1 in /usr/local/lib/python3.11/dist-packages (from tensorflow-hub) (2.18.0)\n",
            "Requirement already satisfied: wheel<1.0,>=0.23.0 in /usr/local/lib/python3.11/dist-packages (from astunparse>=1.6.0->tensorflow) (0.45.1)\n",
            "Requirement already satisfied: rich in /usr/local/lib/python3.11/dist-packages (from keras>=3.5.0->tensorflow) (13.9.4)\n",
            "Requirement already satisfied: namex in /usr/local/lib/python3.11/dist-packages (from keras>=3.5.0->tensorflow) (0.1.0)\n",
            "Requirement already satisfied: optree in /usr/local/lib/python3.11/dist-packages (from keras>=3.5.0->tensorflow) (0.16.0)\n",
            "Requirement already satisfied: annotated-types>=0.6.0 in /usr/local/lib/python3.11/dist-packages (from pydantic!=1.8,!=1.8.1,!=2.0.0,!=2.0.1,!=2.1.0,<3.0.0,>=1.7.4->fastapi) (0.7.0)\n",
            "Requirement already satisfied: pydantic-core==2.33.2 in /usr/local/lib/python3.11/dist-packages (from pydantic!=1.8,!=1.8.1,!=2.0.0,!=2.0.1,!=2.1.0,<3.0.0,>=1.7.4->fastapi) (2.33.2)\n",
            "Requirement already satisfied: typing-inspection>=0.4.0 in /usr/local/lib/python3.11/dist-packages (from pydantic!=1.8,!=1.8.1,!=2.0.0,!=2.0.1,!=2.1.0,<3.0.0,>=1.7.4->fastapi) (0.4.1)\n",
            "Requirement already satisfied: charset-normalizer<4,>=2 in /usr/local/lib/python3.11/dist-packages (from requests<3,>=2.21.0->tensorflow) (3.4.2)\n",
            "Requirement already satisfied: idna<4,>=2.5 in /usr/local/lib/python3.11/dist-packages (from requests<3,>=2.21.0->tensorflow) (3.10)\n",
            "Requirement already satisfied: urllib3<3,>=1.21.1 in /usr/local/lib/python3.11/dist-packages (from requests<3,>=2.21.0->tensorflow) (2.4.0)\n",
            "Requirement already satisfied: certifi>=2017.4.17 in /usr/local/lib/python3.11/dist-packages (from requests<3,>=2.21.0->tensorflow) (2025.6.15)\n",
            "Requirement already satisfied: anyio<5,>=3.6.2 in /usr/local/lib/python3.11/dist-packages (from starlette<0.47.0,>=0.40.0->fastapi) (4.9.0)\n",
            "Requirement already satisfied: markdown>=2.6.8 in /usr/local/lib/python3.11/dist-packages (from tensorboard<2.19,>=2.18->tensorflow) (3.8.2)\n",
            "Requirement already satisfied: tensorboard-data-server<0.8.0,>=0.7.0 in /usr/local/lib/python3.11/dist-packages (from tensorboard<2.19,>=2.18->tensorflow) (0.7.2)\n",
            "Requirement already satisfied: werkzeug>=1.0.1 in /usr/local/lib/python3.11/dist-packages (from tensorboard<2.19,>=2.18->tensorflow) (3.1.3)\n",
            "Requirement already satisfied: sniffio>=1.1 in /usr/local/lib/python3.11/dist-packages (from anyio<5,>=3.6.2->starlette<0.47.0,>=0.40.0->fastapi) (1.3.1)\n",
            "Requirement already satisfied: MarkupSafe>=2.1.1 in /usr/local/lib/python3.11/dist-packages (from werkzeug>=1.0.1->tensorboard<2.19,>=2.18->tensorflow) (3.0.2)\n",
            "Requirement already satisfied: markdown-it-py>=2.2.0 in /usr/local/lib/python3.11/dist-packages (from rich->keras>=3.5.0->tensorflow) (3.0.0)\n",
            "Requirement already satisfied: pygments<3.0.0,>=2.13.0 in /usr/local/lib/python3.11/dist-packages (from rich->keras>=3.5.0->tensorflow) (2.19.2)\n",
            "Requirement already satisfied: mdurl~=0.1 in /usr/local/lib/python3.11/dist-packages (from markdown-it-py>=2.2.0->rich->keras>=3.5.0->tensorflow) (0.1.2)\n"
          ]
        }
      ],
      "source": [
        "!pip install fastapi uvicorn python-multipart pyngrok tensorflow tensorflow-hub opencv-python-headless\n"
      ]
    },
    {
      "cell_type": "code",
      "source": [
        "# from fastapi import FastAPI, Form\n",
        "# from fastapi.responses import FileResponse\n",
        "# import uvicorn\n",
        "# import os\n",
        "# import requests\n",
        "# import tensorflow as tf\n",
        "# import tensorflow_hub as hub\n",
        "# import numpy as np\n",
        "# import cv2\n",
        "\n",
        "# app = FastAPI()\n",
        "\n",
        "# # Load the TF Hub style transfer model once\n",
        "# print(\"🔄 Loading style transfer model...\")\n",
        "# hub_model = hub.load('https://tfhub.dev/google/magenta/arbitrary-image-stylization-v1-256/2')\n",
        "# print(\"✅ Model loaded.\")\n",
        "\n",
        "# def image_read(image_np):\n",
        "#     max_dim = 512\n",
        "#     image = tf.convert_to_tensor(image_np, dtype=tf.float32)\n",
        "#     image = image / 255.0\n",
        "#     shape = tf.cast(tf.shape(image)[:-1], tf.float32)\n",
        "#     long_dim = max(shape)\n",
        "#     scale = max_dim / long_dim\n",
        "#     new_shape = tf.cast(shape * scale, tf.int32)\n",
        "#     image = tf.image.resize(image, new_shape)\n",
        "#     image = image[tf.newaxis, :]\n",
        "#     return image\n",
        "\n",
        "# def tensor_toimage(tensor):\n",
        "#     tensor = tensor * 255\n",
        "#     tensor = tf.cast(tensor, tf.uint8)\n",
        "#     np_image = tensor.numpy()\n",
        "#     if len(np_image.shape) > 3:\n",
        "#         np_image = np_image[0]\n",
        "#     return cv2.cvtColor(np_image, cv2.COLOR_RGB2BGR)\n",
        "\n",
        "# @app.post(\"/stylize/\")\n",
        "# async def stylize_video(style_num: int = Form(...), video_url: str = Form(...)):\n",
        "#     try:\n",
        "#         artworks_dir = \"/content/artworks\"\n",
        "#         style_path = os.path.join(artworks_dir, f\"{style_num}.jpg\")\n",
        "#         input_path = \"/content/input.mp4\"\n",
        "#         output_path = \"/content/output_stylized.mp4\"\n",
        "\n",
        "#         if not os.path.exists(style_path):\n",
        "#             return {\"error\": f\"Style image {style_num}.jpg not found in artworks folder.\"}\n",
        "\n",
        "#         # Download video from URL\n",
        "#         print(\"📥 Downloading video...\")\n",
        "#         video = requests.get(video_url, stream=True)\n",
        "#         with open(input_path, \"wb\") as f:\n",
        "#             f.write(video.content)\n",
        "\n",
        "#         print(f\"🎨 Using style image: {style_path}\")\n",
        "#         style_image = cv2.imread(style_path)\n",
        "#         style_image = cv2.cvtColor(style_image, cv2.COLOR_BGR2RGB)\n",
        "#         style_image = image_read(style_image)\n",
        "\n",
        "#         # Open video\n",
        "#         cap = cv2.VideoCapture(input_path)\n",
        "#         ret, first_frame = cap.read()\n",
        "#         if not ret:\n",
        "#             raise Exception(\"Couldn't read video.\")\n",
        "#         height, width, _ = first_frame.shape\n",
        "\n",
        "#         out = cv2.VideoWriter(output_path, cv2.VideoWriter_fourcc(*'mp4v'), 10, (width, height))\n",
        "\n",
        "#         cap.set(cv2.CAP_PROP_POS_FRAMES, 0)\n",
        "#         frame_count = 0\n",
        "#         while True:\n",
        "#             ret, frame = cap.read()\n",
        "#             if not ret:\n",
        "#                 break\n",
        "#             rgb_frame = cv2.cvtColor(frame, cv2.COLOR_BGR2RGB)\n",
        "#             content_image = image_read(rgb_frame)\n",
        "#             stylized_image = hub_model(tf.constant(content_image), tf.constant(style_image))[0]\n",
        "#             output_frame = tensor_toimage(stylized_image)\n",
        "#             output_frame = cv2.resize(output_frame, (width, height))\n",
        "#             out.write(output_frame)\n",
        "#             frame_count += 1\n",
        "#             if frame_count % 10 == 0:\n",
        "#                 print(f\"Processed {frame_count} frames...\")\n",
        "#         cap.release()\n",
        "#         out.release()\n",
        "\n",
        "#         print(\"🎞️ Style transfer complete.\")\n",
        "#         return FileResponse(output_path, media_type=\"video/mp4\", filename=\"stylized_output.mp4\")\n",
        "\n",
        "#     except Exception as e:\n",
        "#         print(\"❌ ERROR:\", str(e))\n",
        "#         return {\"error\": str(e)}\n"
      ],
      "metadata": {
        "colab": {
          "base_uri": "https://localhost:8080/"
        },
        "id": "mqJApdXEmcFn",
        "outputId": "10557622-afd7-4ec6-cd7c-c5f81bca2d76"
      },
      "execution_count": null,
      "outputs": [
        {
          "output_type": "stream",
          "name": "stdout",
          "text": [
            "🔄 Loading style transfer model...\n",
            "✅ Model loaded.\n"
          ]
        }
      ]
    },
    {
      "cell_type": "code",
      "source": [
        "\n",
        "!ngrok config add-authtoken 2z5UaLEwdbUaYWc9h0BLy0yFTvK_7cEf1SZdKa8kNgxLa1e8R  # Only once"
      ],
      "metadata": {
        "colab": {
          "base_uri": "https://localhost:8080/"
        },
        "id": "DDCnP-hJzOmI",
        "outputId": "c7c12113-3cb7-4fe7-9e7f-7bfd4651f65d"
      },
      "execution_count": null,
      "outputs": [
        {
          "output_type": "stream",
          "name": "stdout",
          "text": [
            "Authtoken saved to configuration file: /root/.config/ngrok/ngrok.yml\n"
          ]
        }
      ]
    },
    {
      "cell_type": "code",
      "source": [
        "# import threading\n",
        "# import uvicorn\n",
        "# from pyngrok import ngrok\n",
        "\n",
        "# # Start FastAPI server in background\n",
        "# def run():\n",
        "#     uvicorn.run(app, host=\"0.0.0.0\", port=8000)\n",
        "\n",
        "\n",
        "# thread = threading.Thread(target=run)\n",
        "# thread.start()\n",
        "\n",
        "# #  Start ngrok tunnel\n",
        "# public_url = ngrok.connect(8000)\n",
        "# print(\"🚀 Public URL:\", public_url)\n"
      ],
      "metadata": {
        "colab": {
          "base_uri": "https://localhost:8080/",
          "height": 584
        },
        "id": "UcW8t-pwmgaV",
        "outputId": "2354948d-6dd6-4493-eacf-bdd528a0a56c"
      },
      "execution_count": null,
      "outputs": [
        {
          "output_type": "stream",
          "name": "stderr",
          "text": [
            "INFO:     Started server process [18026]\n",
            "INFO:     Waiting for application startup.\n",
            "INFO:     Application startup complete.\n",
            "ERROR:    [Errno 98] error while attempting to bind on address ('0.0.0.0', 8000): address already in use\n",
            "INFO:     Waiting for application shutdown.\n",
            "INFO:     Application shutdown complete.\n",
            "WARNING:pyngrok.process.ngrok:t=2025-06-27T10:31:05+0000 lvl=warn msg=\"failed to start tunnel\" pg=/api/tunnels id=a7aab49f0857cc0e err=\"failed to start tunnel: Your account may not run more than 3 tunnels over a single ngrok agent session.\\nThe tunnels already running on this session are:\\ntn_2z5TL8B3EBEuhsZ8870IccWFngk, tn_2z5Tj53ovDw13sOQuS6MM9n1XVp, tn_2z5Tu2Hmo6BLoR9eaunYfloRgAb\\n\\r\\n\\r\\nERR_NGROK_324\\r\\n\"\n"
          ]
        },
        {
          "output_type": "error",
          "ename": "PyngrokNgrokHTTPError",
          "evalue": "ngrok client exception, API returned 502: {\"error_code\":103,\"status_code\":502,\"msg\":\"failed to start tunnel\",\"details\":{\"err\":\"failed to start tunnel: Your account may not run more than 3 tunnels over a single ngrok agent session.\\nThe tunnels already running on this session are:\\ntn_2z5TL8B3EBEuhsZ8870IccWFngk, tn_2z5Tj53ovDw13sOQuS6MM9n1XVp, tn_2z5Tu2Hmo6BLoR9eaunYfloRgAb\\n\\r\\n\\r\\nERR_NGROK_324\\r\\n\"}}\n",
          "traceback": [
            "\u001b[0;31m---------------------------------------------------------------------------\u001b[0m",
            "\u001b[0;31mHTTPError\u001b[0m                                 Traceback (most recent call last)",
            "\u001b[0;32m/usr/local/lib/python3.11/dist-packages/pyngrok/ngrok.py\u001b[0m in \u001b[0;36mapi_request\u001b[0;34m(url, method, data, params, timeout, auth)\u001b[0m\n\u001b[1;32m    626\u001b[0m     \u001b[0;32mtry\u001b[0m\u001b[0;34m:\u001b[0m\u001b[0;34m\u001b[0m\u001b[0;34m\u001b[0m\u001b[0m\n\u001b[0;32m--> 627\u001b[0;31m         \u001b[0mresponse\u001b[0m \u001b[0;34m=\u001b[0m \u001b[0murlopen\u001b[0m\u001b[0;34m(\u001b[0m\u001b[0mrequest\u001b[0m\u001b[0;34m,\u001b[0m \u001b[0mencoded_data\u001b[0m\u001b[0;34m,\u001b[0m \u001b[0mtimeout\u001b[0m\u001b[0;34m)\u001b[0m\u001b[0;34m\u001b[0m\u001b[0;34m\u001b[0m\u001b[0m\n\u001b[0m\u001b[1;32m    628\u001b[0m         \u001b[0mresponse_data\u001b[0m \u001b[0;34m=\u001b[0m \u001b[0mresponse\u001b[0m\u001b[0;34m.\u001b[0m\u001b[0mread\u001b[0m\u001b[0;34m(\u001b[0m\u001b[0;34m)\u001b[0m\u001b[0;34m.\u001b[0m\u001b[0mdecode\u001b[0m\u001b[0;34m(\u001b[0m\u001b[0;34m\"utf-8\"\u001b[0m\u001b[0;34m)\u001b[0m\u001b[0;34m\u001b[0m\u001b[0;34m\u001b[0m\u001b[0m\n",
            "\u001b[0;32m/usr/lib/python3.11/urllib/request.py\u001b[0m in \u001b[0;36murlopen\u001b[0;34m(url, data, timeout, cafile, capath, cadefault, context)\u001b[0m\n\u001b[1;32m    215\u001b[0m         \u001b[0mopener\u001b[0m \u001b[0;34m=\u001b[0m \u001b[0m_opener\u001b[0m\u001b[0;34m\u001b[0m\u001b[0;34m\u001b[0m\u001b[0m\n\u001b[0;32m--> 216\u001b[0;31m     \u001b[0;32mreturn\u001b[0m \u001b[0mopener\u001b[0m\u001b[0;34m.\u001b[0m\u001b[0mopen\u001b[0m\u001b[0;34m(\u001b[0m\u001b[0murl\u001b[0m\u001b[0;34m,\u001b[0m \u001b[0mdata\u001b[0m\u001b[0;34m,\u001b[0m \u001b[0mtimeout\u001b[0m\u001b[0;34m)\u001b[0m\u001b[0;34m\u001b[0m\u001b[0;34m\u001b[0m\u001b[0m\n\u001b[0m\u001b[1;32m    217\u001b[0m \u001b[0;34m\u001b[0m\u001b[0m\n",
            "\u001b[0;32m/usr/lib/python3.11/urllib/request.py\u001b[0m in \u001b[0;36mopen\u001b[0;34m(self, fullurl, data, timeout)\u001b[0m\n\u001b[1;32m    524\u001b[0m             \u001b[0mmeth\u001b[0m \u001b[0;34m=\u001b[0m \u001b[0mgetattr\u001b[0m\u001b[0;34m(\u001b[0m\u001b[0mprocessor\u001b[0m\u001b[0;34m,\u001b[0m \u001b[0mmeth_name\u001b[0m\u001b[0;34m)\u001b[0m\u001b[0;34m\u001b[0m\u001b[0;34m\u001b[0m\u001b[0m\n\u001b[0;32m--> 525\u001b[0;31m             \u001b[0mresponse\u001b[0m \u001b[0;34m=\u001b[0m \u001b[0mmeth\u001b[0m\u001b[0;34m(\u001b[0m\u001b[0mreq\u001b[0m\u001b[0;34m,\u001b[0m \u001b[0mresponse\u001b[0m\u001b[0;34m)\u001b[0m\u001b[0;34m\u001b[0m\u001b[0;34m\u001b[0m\u001b[0m\n\u001b[0m\u001b[1;32m    526\u001b[0m \u001b[0;34m\u001b[0m\u001b[0m\n",
            "\u001b[0;32m/usr/lib/python3.11/urllib/request.py\u001b[0m in \u001b[0;36mhttp_response\u001b[0;34m(self, request, response)\u001b[0m\n\u001b[1;32m    633\u001b[0m         \u001b[0;32mif\u001b[0m \u001b[0;32mnot\u001b[0m \u001b[0;34m(\u001b[0m\u001b[0;36m200\u001b[0m \u001b[0;34m<=\u001b[0m \u001b[0mcode\u001b[0m \u001b[0;34m<\u001b[0m \u001b[0;36m300\u001b[0m\u001b[0;34m)\u001b[0m\u001b[0;34m:\u001b[0m\u001b[0;34m\u001b[0m\u001b[0;34m\u001b[0m\u001b[0m\n\u001b[0;32m--> 634\u001b[0;31m             response = self.parent.error(\n\u001b[0m\u001b[1;32m    635\u001b[0m                 'http', request, response, code, msg, hdrs)\n",
            "\u001b[0;32m/usr/lib/python3.11/urllib/request.py\u001b[0m in \u001b[0;36merror\u001b[0;34m(self, proto, *args)\u001b[0m\n\u001b[1;32m    562\u001b[0m             \u001b[0margs\u001b[0m \u001b[0;34m=\u001b[0m \u001b[0;34m(\u001b[0m\u001b[0mdict\u001b[0m\u001b[0;34m,\u001b[0m \u001b[0;34m'default'\u001b[0m\u001b[0;34m,\u001b[0m \u001b[0;34m'http_error_default'\u001b[0m\u001b[0;34m)\u001b[0m \u001b[0;34m+\u001b[0m \u001b[0morig_args\u001b[0m\u001b[0;34m\u001b[0m\u001b[0;34m\u001b[0m\u001b[0m\n\u001b[0;32m--> 563\u001b[0;31m             \u001b[0;32mreturn\u001b[0m \u001b[0mself\u001b[0m\u001b[0;34m.\u001b[0m\u001b[0m_call_chain\u001b[0m\u001b[0;34m(\u001b[0m\u001b[0;34m*\u001b[0m\u001b[0margs\u001b[0m\u001b[0;34m)\u001b[0m\u001b[0;34m\u001b[0m\u001b[0;34m\u001b[0m\u001b[0m\n\u001b[0m\u001b[1;32m    564\u001b[0m \u001b[0;34m\u001b[0m\u001b[0m\n",
            "\u001b[0;32m/usr/lib/python3.11/urllib/request.py\u001b[0m in \u001b[0;36m_call_chain\u001b[0;34m(self, chain, kind, meth_name, *args)\u001b[0m\n\u001b[1;32m    495\u001b[0m             \u001b[0mfunc\u001b[0m \u001b[0;34m=\u001b[0m \u001b[0mgetattr\u001b[0m\u001b[0;34m(\u001b[0m\u001b[0mhandler\u001b[0m\u001b[0;34m,\u001b[0m \u001b[0mmeth_name\u001b[0m\u001b[0;34m)\u001b[0m\u001b[0;34m\u001b[0m\u001b[0;34m\u001b[0m\u001b[0m\n\u001b[0;32m--> 496\u001b[0;31m             \u001b[0mresult\u001b[0m \u001b[0;34m=\u001b[0m \u001b[0mfunc\u001b[0m\u001b[0;34m(\u001b[0m\u001b[0;34m*\u001b[0m\u001b[0margs\u001b[0m\u001b[0;34m)\u001b[0m\u001b[0;34m\u001b[0m\u001b[0;34m\u001b[0m\u001b[0m\n\u001b[0m\u001b[1;32m    497\u001b[0m             \u001b[0;32mif\u001b[0m \u001b[0mresult\u001b[0m \u001b[0;32mis\u001b[0m \u001b[0;32mnot\u001b[0m \u001b[0;32mNone\u001b[0m\u001b[0;34m:\u001b[0m\u001b[0;34m\u001b[0m\u001b[0;34m\u001b[0m\u001b[0m\n",
            "\u001b[0;32m/usr/lib/python3.11/urllib/request.py\u001b[0m in \u001b[0;36mhttp_error_default\u001b[0;34m(self, req, fp, code, msg, hdrs)\u001b[0m\n\u001b[1;32m    642\u001b[0m     \u001b[0;32mdef\u001b[0m \u001b[0mhttp_error_default\u001b[0m\u001b[0;34m(\u001b[0m\u001b[0mself\u001b[0m\u001b[0;34m,\u001b[0m \u001b[0mreq\u001b[0m\u001b[0;34m,\u001b[0m \u001b[0mfp\u001b[0m\u001b[0;34m,\u001b[0m \u001b[0mcode\u001b[0m\u001b[0;34m,\u001b[0m \u001b[0mmsg\u001b[0m\u001b[0;34m,\u001b[0m \u001b[0mhdrs\u001b[0m\u001b[0;34m)\u001b[0m\u001b[0;34m:\u001b[0m\u001b[0;34m\u001b[0m\u001b[0;34m\u001b[0m\u001b[0m\n\u001b[0;32m--> 643\u001b[0;31m         \u001b[0;32mraise\u001b[0m \u001b[0mHTTPError\u001b[0m\u001b[0;34m(\u001b[0m\u001b[0mreq\u001b[0m\u001b[0;34m.\u001b[0m\u001b[0mfull_url\u001b[0m\u001b[0;34m,\u001b[0m \u001b[0mcode\u001b[0m\u001b[0;34m,\u001b[0m \u001b[0mmsg\u001b[0m\u001b[0;34m,\u001b[0m \u001b[0mhdrs\u001b[0m\u001b[0;34m,\u001b[0m \u001b[0mfp\u001b[0m\u001b[0;34m)\u001b[0m\u001b[0;34m\u001b[0m\u001b[0;34m\u001b[0m\u001b[0m\n\u001b[0m\u001b[1;32m    644\u001b[0m \u001b[0;34m\u001b[0m\u001b[0m\n",
            "\u001b[0;31mHTTPError\u001b[0m: HTTP Error 502: Bad Gateway",
            "\nDuring handling of the above exception, another exception occurred:\n",
            "\u001b[0;31mPyngrokNgrokHTTPError\u001b[0m                     Traceback (most recent call last)",
            "\u001b[0;32m/tmp/ipython-input-16-1767371584.py\u001b[0m in \u001b[0;36m<cell line: 0>\u001b[0;34m()\u001b[0m\n\u001b[1;32m     12\u001b[0m \u001b[0;34m\u001b[0m\u001b[0m\n\u001b[1;32m     13\u001b[0m \u001b[0;31m#  Start ngrok tunnel\u001b[0m\u001b[0;34m\u001b[0m\u001b[0;34m\u001b[0m\u001b[0m\n\u001b[0;32m---> 14\u001b[0;31m \u001b[0mpublic_url\u001b[0m \u001b[0;34m=\u001b[0m \u001b[0mngrok\u001b[0m\u001b[0;34m.\u001b[0m\u001b[0mconnect\u001b[0m\u001b[0;34m(\u001b[0m\u001b[0;36m8000\u001b[0m\u001b[0;34m)\u001b[0m\u001b[0;34m\u001b[0m\u001b[0;34m\u001b[0m\u001b[0m\n\u001b[0m\u001b[1;32m     15\u001b[0m \u001b[0mprint\u001b[0m\u001b[0;34m(\u001b[0m\u001b[0;34m\"🚀 Public URL:\"\u001b[0m\u001b[0;34m,\u001b[0m \u001b[0mpublic_url\u001b[0m\u001b[0;34m)\u001b[0m\u001b[0;34m\u001b[0m\u001b[0;34m\u001b[0m\u001b[0m\n",
            "\u001b[0;32m/usr/local/lib/python3.11/dist-packages/pyngrok/ngrok.py\u001b[0m in \u001b[0;36mconnect\u001b[0;34m(addr, proto, name, pyngrok_config, **options)\u001b[0m\n\u001b[1;32m    387\u001b[0m     \u001b[0mlogger\u001b[0m\u001b[0;34m.\u001b[0m\u001b[0mdebug\u001b[0m\u001b[0;34m(\u001b[0m\u001b[0;34mf\"Creating tunnel with options: {options}\"\u001b[0m\u001b[0;34m)\u001b[0m\u001b[0;34m\u001b[0m\u001b[0;34m\u001b[0m\u001b[0m\n\u001b[1;32m    388\u001b[0m \u001b[0;34m\u001b[0m\u001b[0m\n\u001b[0;32m--> 389\u001b[0;31m     tunnel = NgrokTunnel(api_request(f\"{api_url}/api/tunnels\", method=\"POST\", data=options,\n\u001b[0m\u001b[1;32m    390\u001b[0m                                      timeout=pyngrok_config.request_timeout),\n\u001b[1;32m    391\u001b[0m                          pyngrok_config, api_url)\n",
            "\u001b[0;32m/usr/local/lib/python3.11/dist-packages/pyngrok/ngrok.py\u001b[0m in \u001b[0;36mapi_request\u001b[0;34m(url, method, data, params, timeout, auth)\u001b[0m\n\u001b[1;32m    646\u001b[0m         \u001b[0mlogger\u001b[0m\u001b[0;34m.\u001b[0m\u001b[0mdebug\u001b[0m\u001b[0;34m(\u001b[0m\u001b[0;34mf\"Response {status_code}: {response_data.strip()}\"\u001b[0m\u001b[0;34m)\u001b[0m\u001b[0;34m\u001b[0m\u001b[0;34m\u001b[0m\u001b[0m\n\u001b[1;32m    647\u001b[0m \u001b[0;34m\u001b[0m\u001b[0m\n\u001b[0;32m--> 648\u001b[0;31m         raise PyngrokNgrokHTTPError(f\"ngrok client exception, API returned {status_code}: {response_data}\",\n\u001b[0m\u001b[1;32m    649\u001b[0m                                     \u001b[0me\u001b[0m\u001b[0;34m.\u001b[0m\u001b[0murl\u001b[0m\u001b[0;34m,\u001b[0m\u001b[0;34m\u001b[0m\u001b[0;34m\u001b[0m\u001b[0m\n\u001b[1;32m    650\u001b[0m                                     status_code, e.reason, e.headers, response_data)\n",
            "\u001b[0;31mPyngrokNgrokHTTPError\u001b[0m: ngrok client exception, API returned 502: {\"error_code\":103,\"status_code\":502,\"msg\":\"failed to start tunnel\",\"details\":{\"err\":\"failed to start tunnel: Your account may not run more than 3 tunnels over a single ngrok agent session.\\nThe tunnels already running on this session are:\\ntn_2z5TL8B3EBEuhsZ8870IccWFngk, tn_2z5Tj53ovDw13sOQuS6MM9n1XVp, tn_2z5Tu2Hmo6BLoR9eaunYfloRgAb\\n\\r\\n\\r\\nERR_NGROK_324\\r\\n\"}}\n"
          ]
        }
      ]
    },
    {
      "cell_type": "code",
      "source": [
        "# !curl -X POST \"https://1d96-34-80-52-198.ngrok-free.app/stylize/\" -F style_num=16 -F video_url=https://res.cloudinary.com/dfmdmq24k/video/upload/v175016273/vcfgddwudavelvv1j3km.mp4 --output stylized_result.mp4\n"
      ],
      "metadata": {
        "colab": {
          "base_uri": "https://localhost:8080/"
        },
        "id": "hiTKYANHmhnM",
        "outputId": "1084b679-3389-4e9d-98ee-d34b70040075"
      },
      "execution_count": null,
      "outputs": [
        {
          "output_type": "stream",
          "name": "stdout",
          "text": [
            "  % Total    % Received % Xferd  Average Speed   Time    Time     Time  Current\n",
            "                                 Dload  Upload   Total   Spent    Left  Speed\n",
            "  0     0    0     0    0     0      0      0 --:--:-- --:--:-- --:--:--     0INFO:     34.80.52.198:0 - \"POST /stylize/ HTTP/1.1\" 200 OK\n",
            "100   326  100    60  100   266     74    330 --:--:-- --:--:-- --:--:--   404\n"
          ]
        }
      ]
    },
    {
      "cell_type": "code",
      "source": [],
      "metadata": {
        "id": "P4U4IFp9ydEs"
      },
      "execution_count": null,
      "outputs": []
    },
    {
      "cell_type": "code",
      "source": [
        "# Install necessary packages\n",
        "!pip install -q fastapi uvicorn python-multipart pyngrok tensorflow tensorflow-hub opencv-python-headless nest-asyncio\n",
        "\n",
        "# Imports\n",
        "import os\n",
        "import cv2\n",
        "import numpy as np\n",
        "import requests\n",
        "import threading\n",
        "import tensorflow as tf\n",
        "import tensorflow_hub as hub\n",
        "import nest_asyncio\n",
        "from fastapi import FastAPI, Form\n",
        "from fastapi.responses import FileResponse\n",
        "import uvicorn\n",
        "from pyngrok import ngrok\n",
        "\n",
        "# Enable nested event loop for Colab\n",
        "nest_asyncio.apply()\n",
        "\n",
        "# FastAPI app\n",
        "app = FastAPI()\n",
        "\n",
        "# Load style transfer model\n",
        "print(\"🔄 Loading style transfer model...\")\n",
        "hub_model = hub.load('https://tfhub.dev/google/magenta/arbitrary-image-stylization-v1-256/2')\n",
        "print(\"✅ Model loaded.\")\n",
        "\n",
        "# Helper: Prepare image for model\n",
        "def image_read(image_np):\n",
        "    max_dim = 512\n",
        "    image = tf.convert_to_tensor(image_np, dtype=tf.float32)\n",
        "    image = image / 255.0\n",
        "    shape = tf.cast(tf.shape(image)[:-1], tf.float32)\n",
        "    long_dim = max(shape)\n",
        "    scale = max_dim / long_dim\n",
        "    new_shape = tf.cast(shape * scale, tf.int32)\n",
        "    image = tf.image.resize(image, new_shape)\n",
        "    image = image[tf.newaxis, :]\n",
        "    return image\n",
        "\n",
        "# Helper: Convert tensor to OpenCV image\n",
        "def tensor_toimage(tensor):\n",
        "    tensor = tensor * 255\n",
        "    tensor = tf.cast(tensor, tf.uint8)\n",
        "    np_image = tensor.numpy()\n",
        "    if len(np_image.shape) > 3:\n",
        "        np_image = np_image[0]\n",
        "    return cv2.cvtColor(np_image, cv2.COLOR_RGB2BGR)\n",
        "\n",
        "# Endpoint: Video style transfer\n",
        "@app.post(\"/stylize/\")\n",
        "async def stylize_video(style_num: int = Form(...), video_url: str = Form(...)):\n",
        "    try:\n",
        "        artworks_dir = \"/content/Artworks/\"\n",
        "        os.makedirs(artworks_dir, exist_ok=True)\n",
        "\n",
        "        style_path = os.path.join(artworks_dir, f\"{style_num}.jpg\")\n",
        "        input_path = \"/content/input.mp4\"\n",
        "        output_path = \"/content/output_stylized.mp4\"\n",
        "        print(\"📂 Looking for style at:\", style_path)\n",
        "\n",
        "\n",
        "        # Style image must exist\n",
        "        if not os.path.exists(style_path):\n",
        "            return {\"error\": f\"Style image {style_num}.jpg not found in /content/Artworks.\"}\n",
        "\n",
        "        # Download video\n",
        "        print(\"📥 Downloading video...\")\n",
        "        video = requests.get(video_url, stream=True)\n",
        "        with open(input_path, \"wb\") as f:\n",
        "            f.write(video.content)\n",
        "\n",
        "        # Load style image\n",
        "        print(f\"🎨 Using style image: {style_path}\")\n",
        "        style_image = cv2.imread(style_path)\n",
        "        style_image = cv2.cvtColor(style_image, cv2.COLOR_BGR2RGB)\n",
        "        style_image = image_read(style_image)\n",
        "        print(f\"📦 Downloaded size: {os.path.getsize(input_path)} bytes\")\n",
        "\n",
        "\n",
        "        # Process video\n",
        "        cap = cv2.VideoCapture(input_path)\n",
        "        ret, first_frame = cap.read()\n",
        "        if not ret:\n",
        "            raise Exception(\"Couldn't read video.\")\n",
        "        height, width, _ = first_frame.shape\n",
        "        out = cv2.VideoWriter(output_path, cv2.VideoWriter_fourcc(*'mp4v'), 10, (width, height))\n",
        "        cap.set(cv2.CAP_PROP_POS_FRAMES, 0)\n",
        "\n",
        "        frame_count = 0\n",
        "        while True:\n",
        "            ret, frame = cap.read()\n",
        "            if not ret:\n",
        "                break\n",
        "            rgb_frame = cv2.cvtColor(frame, cv2.COLOR_BGR2RGB)\n",
        "            content_image = image_read(rgb_frame)\n",
        "            stylized_image = hub_model(tf.constant(content_image), tf.constant(style_image))[0]\n",
        "            output_frame = tensor_toimage(stylized_image)\n",
        "            output_frame = cv2.resize(output_frame, (width, height))\n",
        "            out.write(output_frame)\n",
        "\n",
        "            frame_count += 1\n",
        "            if frame_count % 10 == 0:\n",
        "                print(f\"Processed {frame_count} frames...\")\n",
        "\n",
        "        cap.release()\n",
        "        out.release()\n",
        "        print(\"🎞️ Style transfer complete.\")\n",
        "        return FileResponse(output_path, media_type=\"video/mp4\", filename=\"stylized_output.mp4\")\n",
        "\n",
        "    except Exception as e:\n",
        "        print(\"❌ ERROR:\", str(e))\n",
        "        return {\"error\": str(e)}\n",
        "\n",
        "# Auth token only needs to be added once\n",
        "!ngrok config add-authtoken 2z5UaLEwdbUaYWc9h0BLy0yFTvK_7cEf1SZdKa8kNgxLa1e8R\n",
        "\n"
      ],
      "metadata": {
        "colab": {
          "base_uri": "https://localhost:8080/"
        },
        "id": "V4GLiq6z-GFF",
        "outputId": "d5cc6660-55a5-4d18-9cca-482fbff4bcef"
      },
      "execution_count": null,
      "outputs": [
        {
          "output_type": "stream",
          "name": "stdout",
          "text": [
            "🔄 Loading style transfer model...\n",
            "✅ Model loaded.\n",
            "Authtoken saved to configuration file: /root/.config/ngrok/ngrok.yml\n"
          ]
        }
      ]
    },
    {
      "cell_type": "code",
      "source": [
        "# !curl -X POST \"https://9ab7-34-80-52-198.ngrok-free.app/stylize/\" \\\n",
        "#   -F style_num=16 \\\n",
        "#   -F video_url=https://res.cloudinary.com/dahwwh212/video/upload/v1750508813/user1/dl1brgjfgxcvexslxdfu.mp4 \\\n",
        "#   --output stylized_result.mp4\n"
      ],
      "metadata": {
        "colab": {
          "base_uri": "https://localhost:8080/"
        },
        "id": "AWX4zoME-JDN",
        "outputId": "ff23432e-5b7a-4803-8841-7ed0e153f79a"
      },
      "execution_count": null,
      "outputs": [
        {
          "output_type": "stream",
          "name": "stdout",
          "text": [
            "  % Total    % Received % Xferd  Average Speed   Time    Time     Time  Current\n",
            "                                 Dload  Upload   Total   Spent    Left  Speed\n",
            "\r  0     0    0     0    0     0      0      0 --:--:-- --:--:-- --:--:--     0📂 Looking for style at: /content/Artworks/16.jpg\n",
            "📥 Downloading video...\n",
            "100   336    0     0  100   336      0    267  0:00:01  0:00:01 --:--:--   267🎨 Using style image: /content/Artworks/16.jpg\n",
            "📦 Downloaded size: 7424544 bytes\n",
            "100   336    0     0  100   336      0      9  0:00:37  0:00:37 --:--:--     0Processed 10 frames...\n",
            "100   336    0     0  100   336      0      4  0:01:24  0:01:09  0:00:15     0Processed 20 frames...\n",
            "100   336    0     0  100   336      0      3  0:01:52  0:01:45  0:00:07     0Processed 30 frames...\n",
            "100   336    0     0  100   336      0      2  0:02:48  0:02:17  0:00:31     0Processed 40 frames...\n",
            "100   336    0     0  100   336      0      1  0:05:36  0:02:50  0:02:46     0Processed 50 frames...\n",
            "100   336    0     0  100   336      0      1  0:05:36  0:03:24  0:02:12     0Processed 60 frames...\n",
            "100   336    0     0  100   336      0      1  0:05:36  0:03:56  0:01:40     0Processed 70 frames...\n",
            "100   336    0     0  100   336      0      1  0:05:36  0:04:29  0:01:07     0Processed 80 frames...\n",
            "100   336    0     0  100   336      0      1  0:05:36  0:05:00  0:00:36     0\n",
            "curl: (92) HTTP/2 stream 1 was not closed cleanly before end of the underlying stream\n"
          ]
        }
      ]
    },
    {
      "cell_type": "code",
      "source": [
        "from threading import Thread\n",
        "import time\n",
        "from pyngrok import ngrok\n",
        "import uvicorn\n",
        "\n",
        "# Start ngrok tunnel\n",
        "public_url = ngrok.connect(8000)\n",
        "print(\"🚀 Public URL:\", public_url)\n",
        "\n",
        "# Run FastAPI in background\n",
        "def run():\n",
        "    uvicorn.run(app, host=\"0.0.0.0\", port=8000)\n",
        "\n",
        "Thread(target=run).start()\n",
        "\n",
        "# Keep cell alive\n",
        "while True:\n",
        "    time.sleep(1)\n"
      ],
      "metadata": {
        "colab": {
          "base_uri": "https://localhost:8080/",
          "height": 439
        },
        "id": "CdyZx9TvAhAz",
        "outputId": "6c90748f-0e6e-4a33-d10a-eba31ea40a34"
      },
      "execution_count": null,
      "outputs": [
        {
          "output_type": "stream",
          "name": "stderr",
          "text": [
            "INFO:     Started server process [35879]\n",
            "INFO:     Waiting for application startup.\n",
            "INFO:     Application startup complete.\n",
            "INFO:     Uvicorn running on http://0.0.0.0:8000 (Press CTRL+C to quit)\n"
          ]
        },
        {
          "output_type": "stream",
          "name": "stdout",
          "text": [
            "🚀 Public URL: NgrokTunnel: \"https://7140-34-80-52-198.ngrok-free.app\" -> \"http://localhost:8000\"\n"
          ]
        },
        {
          "output_type": "stream",
          "name": "stderr",
          "text": [
            "WARNING:pyngrok.process.ngrok:t=2025-06-27T11:11:15+0000 lvl=warn msg=\"failed to check for update\" obj=updater err=\"Post \\\"https://update.equinox.io/check\\\": context deadline exceeded\"\n"
          ]
        },
        {
          "output_type": "stream",
          "name": "stdout",
          "text": [
            "INFO:     2409:40f2:3044:13df:811f:1748:c51d:93a6:0 - \"GET / HTTP/1.1\" 404 Not Found\n",
            "INFO:     2401:4900:1cb8:13b8:b14d:7ce2:a1d:5745:0 - \"POST /stylize HTTP/1.1\" 307 Temporary Redirect\n",
            "📂 Looking for style at: /content/Artworks/16.jpg\n",
            "📥 Downloading video...\n",
            "🎨 Using style image: /content/Artworks/16.jpg\n",
            "📦 Downloaded size: 4166423 bytes\n",
            "Processed 10 frames...\n",
            "Processed 20 frames...\n"
          ]
        },
        {
          "output_type": "error",
          "ename": "KeyboardInterrupt",
          "evalue": "",
          "traceback": [
            "\u001b[0;31m---------------------------------------------------------------------------\u001b[0m",
            "\u001b[0;31mKeyboardInterrupt\u001b[0m                         Traceback (most recent call last)",
            "\u001b[0;32m/tmp/ipython-input-2-1842483339.py\u001b[0m in \u001b[0;36m<cell line: 0>\u001b[0;34m()\u001b[0m\n\u001b[1;32m     16\u001b[0m \u001b[0;31m# Keep cell alive\u001b[0m\u001b[0;34m\u001b[0m\u001b[0;34m\u001b[0m\u001b[0m\n\u001b[1;32m     17\u001b[0m \u001b[0;32mwhile\u001b[0m \u001b[0;32mTrue\u001b[0m\u001b[0;34m:\u001b[0m\u001b[0;34m\u001b[0m\u001b[0;34m\u001b[0m\u001b[0m\n\u001b[0;32m---> 18\u001b[0;31m     \u001b[0mtime\u001b[0m\u001b[0;34m.\u001b[0m\u001b[0msleep\u001b[0m\u001b[0;34m(\u001b[0m\u001b[0;36m1\u001b[0m\u001b[0;34m)\u001b[0m\u001b[0;34m\u001b[0m\u001b[0;34m\u001b[0m\u001b[0m\n\u001b[0m",
            "\u001b[0;31mKeyboardInterrupt\u001b[0m: "
          ]
        }
      ]
    },
    {
      "cell_type": "code",
      "source": [],
      "metadata": {
        "id": "ugy57m6OFTPu"
      },
      "execution_count": null,
      "outputs": []
    }
  ]
}