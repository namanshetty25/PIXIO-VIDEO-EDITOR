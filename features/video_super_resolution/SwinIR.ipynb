{
  "cells": [
    {
      "cell_type": "code",
      "execution_count": null,
      "metadata": {
        "colab": {
          "base_uri": "https://localhost:8080/"
        },
        "id": "YG5qjMFOVRqb",
        "outputId": "8ff39ecd-22ed-47b9-df1c-46beaf64a60f"
      },
      "outputs": [],
      "source": [
        "!git clone https://github.com/JingyunLiang/SwinIR.git\n",
        "%cd SwinIR\n",
        "\n",
        "!pip install basicsr facexlib gfpgan\n",
        "!python setup.py develop\n"
      ]
    },
    {
      "cell_type": "code",
      "execution_count": null,
      "metadata": {
        "colab": {
          "base_uri": "https://localhost:8080/"
        },
        "id": "f8InL75nVuBL",
        "outputId": "3062e9b6-b911-4757-b0b3-f35804419a27"
      },
      "outputs": [],
      "source": [
        "!wget https://github.com/JingyunLiang/SwinIR/releases/download/v0.0/003_realSR_BSRGAN_DFO_s64w8_SwinIR-M_x4_GAN.pth -P ./experiments/pretrained_models\n"
      ]
    },
    {
      "cell_type": "code",
      "execution_count": null,
      "metadata": {
        "colab": {
          "base_uri": "https://localhost:8080/"
        },
        "id": "d8pOjAKtVyaE",
        "outputId": "ba4a6fac-5d59-44f1-dc94-b758b29e6e52"
      },
      "outputs": [],
      "source": [
        "import cv2\n",
        "import os\n",
        "\n",
        "video_path = '/content/input.mp4'  # Upload this manually in Colab\n",
        "output_dir = '/content/frames'\n",
        "os.makedirs(output_dir, exist_ok=True)\n",
        "\n",
        "vidcap = cv2.VideoCapture(video_path)\n",
        "count = 0\n",
        "while True:\n",
        "    success, image = vidcap.read()\n",
        "    if not success:\n",
        "        break\n",
        "    cv2.imwrite(f\"{output_dir}/frame_{count:04d}.png\", image)\n",
        "    count += 1\n",
        "print(f\"Extracted {count} frames.\")\n"
      ]
    },
    {
      "cell_type": "code",
      "execution_count": null,
      "metadata": {
        "colab": {
          "base_uri": "https://localhost:8080/"
        },
        "id": "yppjpMowV0Qy",
        "outputId": "6e149f1d-a6f0-43ff-e7bf-4e023b53fcd3"
      },
      "outputs": [],
      "source": [
        "!python main_test_swinir.py \\\n",
        "    --task real_sr \\\n",
        "    --scale 4 \\\n",
        "    --model_path ./experiments/pretrained_models/003_realSR_BSRGAN_DFO_s64w8_SwinIR-M_x4_GAN.pth \\\n",
        "    --folder_lq /content/frames \\\n",
        "    --tile 200\n"
      ]
    },
    {
      "cell_type": "code",
      "execution_count": null,
      "metadata": {
        "colab": {
          "base_uri": "https://localhost:8080/"
        },
        "id": "aWPmZvrFV-TC",
        "outputId": "cc283b3f-2284-4fbc-af92-55102da070a3"
      },
      "outputs": [],
      "source": [
        "import imageio\n",
        "import os\n",
        "\n",
        "input_folder = './results/swinir_real_sr_x4'\n",
        "frame_files = sorted(os.listdir(input_folder))\n",
        "\n",
        "output_video = imageio.get_writer('/content/output_upscaled.mp4', fps=24)\n",
        "\n",
        "for fname in frame_files:\n",
        "    img = imageio.imread(os.path.join(input_folder, fname))\n",
        "    output_video.append_data(img)\n",
        "\n",
        "output_video.close()\n",
        "print(\"Video saved to /content/output_upscaled.mp4\")\n"
      ]
    }
  ],
  "metadata": {
    "accelerator": "GPU",
    "colab": {
      "gpuType": "T4",
      "provenance": []
    },
    "kernelspec": {
      "display_name": "Python 3",
      "name": "python3"
    },
    "language_info": {
      "name": "python"
    }
  },
  "nbformat": 4,
  "nbformat_minor": 0
}
