{
  "cells": [
    {
      "cell_type": "code",
      "execution_count": null,
      "metadata": {
        "id": "VyodZ3D1JfRj"
      },
      "outputs": [],
      "source": [
        "\n",
        "!pip install -q opencv-python opencv-python-headless torch torchvision matplotlib tqdm\n",
        "\n",
        "!mkdir -p model\n",
        "\n",
        "!rm -f model/srcnn_x4.pth\n",
        "!wget -q -O model/srcnn_x4.pth \"https://www.dropbox.com/s/pd5b2ketm0oamhj/srcnn_x4.pth?dl=1\"\n",
        "\n",
        "from google.colab import files\n",
        "import os\n",
        "\n",
        "print(\"Upload your video 🎥\")\n",
        "uploaded = files.upload()\n",
        "video_path = list(uploaded.keys())[0]\n",
        "\n"
      ]
    },
    {
      "cell_type": "code",
      "execution_count": null,
      "metadata": {
        "colab": {
          "base_uri": "https://localhost:8080/",
          "height": 104
        },
        "id": "fDkgVQa3Jlye",
        "outputId": "80ed8186-2d02-4d98-dc30-13224d556fa5"
      },
      "outputs": [],
      "source": [
        "os.makedirs('frames', exist_ok=True)\n",
        "!ffmpeg -hide_banner -loglevel error -i \"$video_path\" -qscale:v 1 frames/frame%04d.png\n",
        "\n",
        "import torch.nn as nn\n",
        "import torch\n",
        "\n",
        "class SRCNN(nn.Module):\n",
        "    def __init__(self):\n",
        "        super(SRCNN, self).__init__()\n",
        "        # The model architecture remains the same\n",
        "        self.conv1 = nn.Conv2d(1, 64, kernel_size=9, padding=4)\n",
        "        self.conv2 = nn.Conv2d(64, 32, kernel_size=5, padding=2)\n",
        "        self.conv3 = nn.Conv2d(32, 1, kernel_size=5, padding=2)\n",
        "        self.relu = nn.ReLU()\n",
        "\n",
        "    def forward(self, x):\n",
        "        x = self.relu(self.conv1(x))\n",
        "        x = self.relu(self.conv2(x))\n",
        "        x = self.conv3(x)\n",
        "        return x\n",
        "\n",
        "from glob import glob\n",
        "from tqdm import tqdm\n",
        "import cv2\n",
        "import numpy as np\n",
        "from torchvision.transforms import ToTensor\n",
        "\n",
        "device = torch.device('cuda' if torch.cuda.is_available() else 'cpu')\n",
        "print(f\"Using device: {device}\")\n",
        "\n",
        "model = SRCNN().to(device)\n",
        "model.load_state_dict(torch.load('model/srcnn_x4.pth', map_location=device))\n",
        "model.eval()\n",
        "\n",
        "input_dir = 'frames'\n",
        "output_dir = 'frames_upscaled'\n",
        "os.makedirs(output_dir, exist_ok=True)\n",
        "\n",
        "frame_list = sorted(glob(os.path.join(input_dir, '*.png')))\n",
        "to_tensor = ToTensor()\n",
        "\n",
        "for frame_path in tqdm(frame_list, desc=\"Upscaling Frames (4x)\"):\n",
        "    img = cv2.imread(frame_path)\n",
        "    img_ycrcb = cv2.cvtColor(img, cv2.COLOR_BGR2YCrCb)\n",
        "    y, cr, cb = cv2.split(img_ycrcb)\n",
        "\n",
        "    y_resized = cv2.resize(y, (y.shape[1]*4, y.shape[0]*4), interpolation=cv2.INTER_CUBIC)\n",
        "\n",
        "    y_tensor = to_tensor(y_resized).unsqueeze(0).to(device)\n",
        "\n",
        "    with torch.no_grad():\n",
        "        out = model(y_tensor).clamp(0, 1)\n",
        "\n",
        "    out_y = out.squeeze().cpu().numpy() * 255.0\n",
        "    out_y = out_y.astype(np.uint8)\n",
        "\n",
        "    cr = cv2.resize(cr, (out_y.shape[1], out_y.shape[0]), interpolation=cv2.INTER_CUBIC)\n",
        "    cb = cv2.resize(cb, (out_y.shape[1], out_y.shape[0]), interpolation=cv2.INTER_CUBIC)\n",
        "\n",
        "    out_img = cv2.merge([out_y, cr, cb])\n",
        "    out_bgr = cv2.cvtColor(out_img, cv2.COLOR_YCrCb2BGR)\n",
        "\n",
        "    output_frame_path = os.path.join(output_dir, os.path.basename(frame_path))\n",
        "    cv2.imwrite(output_frame_path, out_bgr)\n",
        "\n",
        "output_video = \"upscaled_output_srcnn_x4.mp4\"\n",
        "framerate = !ffprobe -v error -select_streams v:0 -show_entries stream=r_frame_rate -of default=noprint_wrappers=1:nokey=1 \"$video_path\"\n",
        "framerate = framerate[0] if framerate else '30' # Default to 30 if not found\n",
        "\n",
        "print(f\"Reconstructing video with framerate: {framerate}\")\n",
        "!ffmpeg -hide_banner -loglevel error -y -framerate {framerate} -i frames_upscaled/frame%04d.png -c:v libx264 -crf 18 -preset slow -pix_fmt yuv420p \"$output_video\"\n",
        "\n",
        "print(f\"\\nDone! Downloading {output_video}\")\n",
        "from google.colab import files\n",
        "files.download(output_video)"
      ]
    }
  ],
  "metadata": {
    "accelerator": "GPU",
    "colab": {
      "gpuType": "T4",
      "provenance": []
    },
    "kernelspec": {
      "display_name": "Python 3",
      "name": "python3"
    },
    "language_info": {
      "name": "python"
    }
  },
  "nbformat": 4,
  "nbformat_minor": 0
}
