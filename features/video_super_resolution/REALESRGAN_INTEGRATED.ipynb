{
  "cells": [
    {
      "cell_type": "code",
      "execution_count": null,
      "metadata": {
        "colab": {
          "base_uri": "https://localhost:8080/"
        },
        "id": "Vq_HhSDEGXdK",
        "outputId": "656ff5be-7e40-4221-8f8a-67de0f6691a7"
      },
      "outputs": [],
      "source": [
        "!pip install ffmpeg opencv-python opencv-python-headless basicsr facexlib gfpgan tqdm -q\n",
        "!pip install -U git+https://github.com/xinntao/Real-ESRGAN.git -q"
      ]
    },
    {
      "cell_type": "code",
      "execution_count": null,
      "metadata": {
        "colab": {
          "base_uri": "https://localhost:8080/"
        },
        "id": "KyMkNVdrIWKI",
        "outputId": "8e1075de-0cfc-419d-e4e9-0e2760635dea"
      },
      "outputs": [],
      "source": [
        "!git clone https://github.com/xinntao/Real-ESRGAN.git\n",
        "%cd Real-ESRGAN\n",
        "!wget -P experiments/pretrained_models https://github.com/xinntao/Real-ESRGAN/releases/download/v0.1.0/RealESRGAN_x4plus.pth\n",
        "!pip install -r requirements.txt\n",
        "!python setup.py develop\n",
        "%cd ..\n",
        "\n",
        "file_path = \"/usr/local/lib/python3.11/dist-packages/basicsr/data/degradations.py\"\n",
        "with open(file_path, \"r\") as f:\n",
        "    lines = f.readlines()\n",
        "with open(file_path, \"w\") as f:\n",
        "    for line in lines:\n",
        "        if 'from torchvision.transforms.functional_tensor import rgb_to_grayscale' in line:\n",
        "            f.write('from torchvision.transforms.functional import rgb_to_grayscale\\n')\n",
        "        else:\n",
        "            f.write(line)\n",
        "\n"
      ]
    },
    {
      "cell_type": "code",
      "execution_count": null,
      "metadata": {
        "id": "9WzVSyx7GbTT"
      },
      "outputs": [],
      "source": [
        "import os, cv2, requests, subprocess, nest_asyncio\n",
        "from fastapi import FastAPI, Form\n",
        "from fastapi.responses import FileResponse\n",
        "from pyngrok import ngrok\n",
        "import uvicorn\n",
        "import threading\n",
        "import sys\n",
        "\n",
        "nest_asyncio.apply()\n",
        "app = FastAPI()\n",
        "\n",
        "@app.post(\"/upscale/\")\n",
        "async def upscale_video(video_url: str = Form(...)):\n",
        "    try:\n",
        "        print(\"Downloading input video...\")\n",
        "        input_path = \"/content/input.mp4\"\n",
        "        with open(input_path, \"wb\") as f:\n",
        "            f.write(requests.get(video_url).content)\n",
        "\n",
        "        os.makedirs(\"frames\", exist_ok=True)\n",
        "        os.system(f\"ffmpeg -i {input_path} -qscale:v 1 frames/frame%04d.png\"))\n",
        "        print(\"Upscaling frames...\")\n",
        "        os.makedirs(\"frames_upscaled\", exist_ok=True)\n",
        "        result = subprocess.run([\n",
        "            \"python\", \"Real-ESRGAN/inference_realesrgan.py\",\n",
        "            \"-n\", \"RealESRGAN_x4plus\",\n",
        "            \"-i\", \"frames\",\n",
        "            \"-o\", \"frames_upscaled\"\n",
        "        ], capture_output=True, text=True)\n",
        "        print(\"Real-ESRGAN script output (stdout):\")\n",
        "        print(result.stdout)\n",
        "        print(\"Real-ESRGAN script output (stderr):\")\n",
        "        print(result.stderr)\n",
        "\n",
        "        output_video = \"/content/upscaled_output_4k.mp4\"\n",
        "        os.system(f\"ffmpeg -y -r 30 -start_number 1 -i frames_upscaled/frame%04d_out.png -vf scale=3840:2160 -c:v libx264 -crf 16 -preset slow -pix_fmt yuv420p {output_video}\")\n",
        "\n",
        "        print(\"Upscaling complete.\")\n",
        "        return FileResponse(output_video, media_type=\"video/mp4\", filename=\"upscaled_output.mp4\")\n",
        "\n",
        "    except Exception as e:\n",
        "        print(\"ERROR:\", e)\n",
        "        return {\"error\": str(e)}"
      ]
    },
    {
      "cell_type": "code",
      "execution_count": null,
      "metadata": {
        "colab": {
          "base_uri": "https://localhost:8080/"
        },
        "id": "NDrDdaTRH_7J",
        "outputId": "679148a3-f0bc-459b-a0c0-c03c1b914aaf"
      },
      "outputs": [],
      "source": [
        "!ngrok kill"
      ]
    },
    {
      "cell_type": "code",
      "execution_count": null,
      "metadata": {
        "colab": {
          "base_uri": "https://localhost:8080/"
        },
        "id": "N7oUESfRGqJB",
        "outputId": "3720f0e0-1c73-468f-ac15-cc5c834c6330"
      },
      "outputs": [],
      "source": [
        "!ngrok config add-authtoken ngrok_token_here\n",
        "\n",
        "def run():\n",
        "    uvicorn.run(app, host=\"0.0.0.0\", port=8007)\n",
        "threading.Thread(target=run).start()\n",
        "\n",
        "public_url = ngrok.connect(8007)\n",
        "print(\"Public URL:\", public_url)"
      ]
    },
    {
      "cell_type": "code",
      "execution_count": null,
      "metadata": {
        "id": "hTdDlBePQrJ4"
      },
      "outputs": [],
      "source": [
        "import shutil, os\n",
        "\n",
        "def clean_folder(path):\n",
        "    if os.path.exists(path):\n",
        "        shutil.rmtree(path)\n",
        "    os.makedirs(path)\n",
        "\n",
        "clean_folder(\"frames\")\n",
        "clean_folder(\"frames_upscaled\")\n"
      ]
    },
    {
      "cell_type": "code",
      "execution_count": null,
      "metadata": {
        "colab": {
          "base_uri": "https://localhost:8080/"
        },
        "id": "BFBOLDVRGrL8",
        "outputId": "c0d6f473-24ae-451d-a54a-407fdd581b2b"
      },
      "outputs": [],
      "source": [
        "!curl -X POST \"https://e8957ca2455a.ngrok-free.app/upscale/\" \\\n",
        "  -F \"video_url=https://res.cloudinary.com/dfmdmqz4k/video/upload/v1753926949/shortest_zaxyqt.mp4\" \\\n",
        "  --output upscaled_output.mp4"
      ]
    },
    {
      "cell_type": "code",
      "execution_count": null,
      "metadata": {
        "id": "uO-U0HBOHmXW"
      },
      "outputs": [],
      "source": [
        "!fuser -k 8001/tcp  # kills any process using port 8004\n"
      ]
    },
    {
      "cell_type": "code",
      "execution_count": null,
      "metadata": {
        "id": "7R5Ly8XvIQBL"
      },
      "outputs": [],
      "source": []
    }
  ],
  "metadata": {
    "accelerator": "GPU",
    "colab": {
      "gpuType": "T4",
      "provenance": []
    },
    "kernelspec": {
      "display_name": "Python 3",
      "name": "python3"
    },
    "language_info": {
      "name": "python"
    }
  },
  "nbformat": 4,
  "nbformat_minor": 0
}
