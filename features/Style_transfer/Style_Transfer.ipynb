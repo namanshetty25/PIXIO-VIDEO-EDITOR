{
  "nbformat": 4,
  "nbformat_minor": 0,
  "metadata": {
    "colab": {
      "provenance": [],
      "gpuType": "T4"
    },
    "kernelspec": {
      "name": "python3",
      "display_name": "Python 3"
    },
    "language_info": {
      "name": "python"
    },
    "accelerator": "GPU"
  },
  "cells": [
    {
      "cell_type": "code",
      "source": [
        "!pip install tensorflow tensorflow-hub"
      ],
      "metadata": {
        "colab": {
          "base_uri": "https://localhost:8080/"
        },
        "id": "2uASgacCYhe0",
        "outputId": "668c26c9-4afc-4c89-be4a-d26764ea999f"
      },
      "execution_count": null,
      "outputs": [
        {
          "output_type": "stream",
          "name": "stdout",
          "text": [
            "Requirement already satisfied: tensorflow in /usr/local/lib/python3.11/dist-packages (2.18.0)\n",
            "Requirement already satisfied: tensorflow-hub in /usr/local/lib/python3.11/dist-packages (0.16.1)\n",
            "Requirement already satisfied: absl-py>=1.0.0 in /usr/local/lib/python3.11/dist-packages (from tensorflow) (1.4.0)\n",
            "Requirement already satisfied: astunparse>=1.6.0 in /usr/local/lib/python3.11/dist-packages (from tensorflow) (1.6.3)\n",
            "Requirement already satisfied: flatbuffers>=24.3.25 in /usr/local/lib/python3.11/dist-packages (from tensorflow) (25.2.10)\n",
            "Requirement already satisfied: gast!=0.5.0,!=0.5.1,!=0.5.2,>=0.2.1 in /usr/local/lib/python3.11/dist-packages (from tensorflow) (0.6.0)\n",
            "Requirement already satisfied: google-pasta>=0.1.1 in /usr/local/lib/python3.11/dist-packages (from tensorflow) (0.2.0)\n",
            "Requirement already satisfied: libclang>=13.0.0 in /usr/local/lib/python3.11/dist-packages (from tensorflow) (18.1.1)\n",
            "Requirement already satisfied: opt-einsum>=2.3.2 in /usr/local/lib/python3.11/dist-packages (from tensorflow) (3.4.0)\n",
            "Requirement already satisfied: packaging in /usr/local/lib/python3.11/dist-packages (from tensorflow) (24.2)\n",
            "Requirement already satisfied: protobuf!=4.21.0,!=4.21.1,!=4.21.2,!=4.21.3,!=4.21.4,!=4.21.5,<6.0.0dev,>=3.20.3 in /usr/local/lib/python3.11/dist-packages (from tensorflow) (5.29.5)\n",
            "Requirement already satisfied: requests<3,>=2.21.0 in /usr/local/lib/python3.11/dist-packages (from tensorflow) (2.32.3)\n",
            "Requirement already satisfied: setuptools in /usr/local/lib/python3.11/dist-packages (from tensorflow) (75.2.0)\n",
            "Requirement already satisfied: six>=1.12.0 in /usr/local/lib/python3.11/dist-packages (from tensorflow) (1.17.0)\n",
            "Requirement already satisfied: termcolor>=1.1.0 in /usr/local/lib/python3.11/dist-packages (from tensorflow) (3.1.0)\n",
            "Requirement already satisfied: typing-extensions>=3.6.6 in /usr/local/lib/python3.11/dist-packages (from tensorflow) (4.14.0)\n",
            "Requirement already satisfied: wrapt>=1.11.0 in /usr/local/lib/python3.11/dist-packages (from tensorflow) (1.17.2)\n",
            "Requirement already satisfied: grpcio<2.0,>=1.24.3 in /usr/local/lib/python3.11/dist-packages (from tensorflow) (1.72.1)\n",
            "Requirement already satisfied: tensorboard<2.19,>=2.18 in /usr/local/lib/python3.11/dist-packages (from tensorflow) (2.18.0)\n",
            "Requirement already satisfied: keras>=3.5.0 in /usr/local/lib/python3.11/dist-packages (from tensorflow) (3.8.0)\n",
            "Requirement already satisfied: numpy<2.1.0,>=1.26.0 in /usr/local/lib/python3.11/dist-packages (from tensorflow) (2.0.2)\n",
            "Requirement already satisfied: h5py>=3.11.0 in /usr/local/lib/python3.11/dist-packages (from tensorflow) (3.13.0)\n",
            "Requirement already satisfied: ml-dtypes<0.5.0,>=0.4.0 in /usr/local/lib/python3.11/dist-packages (from tensorflow) (0.4.1)\n",
            "Requirement already satisfied: tensorflow-io-gcs-filesystem>=0.23.1 in /usr/local/lib/python3.11/dist-packages (from tensorflow) (0.37.1)\n",
            "Requirement already satisfied: tf-keras>=2.14.1 in /usr/local/lib/python3.11/dist-packages (from tensorflow-hub) (2.18.0)\n",
            "Requirement already satisfied: wheel<1.0,>=0.23.0 in /usr/local/lib/python3.11/dist-packages (from astunparse>=1.6.0->tensorflow) (0.45.1)\n",
            "Requirement already satisfied: rich in /usr/local/lib/python3.11/dist-packages (from keras>=3.5.0->tensorflow) (13.9.4)\n",
            "Requirement already satisfied: namex in /usr/local/lib/python3.11/dist-packages (from keras>=3.5.0->tensorflow) (0.1.0)\n",
            "Requirement already satisfied: optree in /usr/local/lib/python3.11/dist-packages (from keras>=3.5.0->tensorflow) (0.16.0)\n",
            "Requirement already satisfied: charset-normalizer<4,>=2 in /usr/local/lib/python3.11/dist-packages (from requests<3,>=2.21.0->tensorflow) (3.4.2)\n",
            "Requirement already satisfied: idna<4,>=2.5 in /usr/local/lib/python3.11/dist-packages (from requests<3,>=2.21.0->tensorflow) (3.10)\n",
            "Requirement already satisfied: urllib3<3,>=1.21.1 in /usr/local/lib/python3.11/dist-packages (from requests<3,>=2.21.0->tensorflow) (2.4.0)\n",
            "Requirement already satisfied: certifi>=2017.4.17 in /usr/local/lib/python3.11/dist-packages (from requests<3,>=2.21.0->tensorflow) (2025.4.26)\n",
            "Requirement already satisfied: markdown>=2.6.8 in /usr/local/lib/python3.11/dist-packages (from tensorboard<2.19,>=2.18->tensorflow) (3.8)\n",
            "Requirement already satisfied: tensorboard-data-server<0.8.0,>=0.7.0 in /usr/local/lib/python3.11/dist-packages (from tensorboard<2.19,>=2.18->tensorflow) (0.7.2)\n",
            "Requirement already satisfied: werkzeug>=1.0.1 in /usr/local/lib/python3.11/dist-packages (from tensorboard<2.19,>=2.18->tensorflow) (3.1.3)\n",
            "Requirement already satisfied: MarkupSafe>=2.1.1 in /usr/local/lib/python3.11/dist-packages (from werkzeug>=1.0.1->tensorboard<2.19,>=2.18->tensorflow) (3.0.2)\n",
            "Requirement already satisfied: markdown-it-py>=2.2.0 in /usr/local/lib/python3.11/dist-packages (from rich->keras>=3.5.0->tensorflow) (3.0.0)\n",
            "Requirement already satisfied: pygments<3.0.0,>=2.13.0 in /usr/local/lib/python3.11/dist-packages (from rich->keras>=3.5.0->tensorflow) (2.19.1)\n",
            "Requirement already satisfied: mdurl~=0.1 in /usr/local/lib/python3.11/dist-packages (from markdown-it-py>=2.2.0->rich->keras>=3.5.0->tensorflow) (0.1.2)\n"
          ]
        }
      ]
    },
    {
      "cell_type": "code",
      "source": [
        "import tensorflow as tf\n",
        "import tensorflow_hub as hub\n",
        "import numpy as np\n",
        "import cv2\n",
        "import PIL\n",
        "import os"
      ],
      "metadata": {
        "id": "mK0NcINwYo_p"
      },
      "execution_count": null,
      "outputs": []
    },
    {
      "cell_type": "code",
      "source": [
        "hub_model = hub.load('https://tfhub.dev/google/magenta/arbitrary-image-stylization-v1-256/2')\n"
      ],
      "metadata": {
        "id": "mAKLklvCYuyC"
      },
      "execution_count": null,
      "outputs": []
    },
    {
      "cell_type": "code",
      "source": [
        "def image_read(image):\n",
        "    max_dim = 512\n",
        "    image = tf.convert_to_tensor(image, dtype=tf.float32)\n",
        "    image = image / 255.0\n",
        "    shape = tf.cast(tf.shape(image)[:-1], tf.float32)\n",
        "    long_dim = max(shape)\n",
        "    scale = max_dim / long_dim\n",
        "    new_shape = tf.cast(shape * scale, tf.int32)\n",
        "    image = tf.image.resize(image, new_shape)\n",
        "    image = image[tf.newaxis, :]\n",
        "    return image"
      ],
      "metadata": {
        "id": "ZYAiTr81Ywxi"
      },
      "execution_count": null,
      "outputs": []
    },
    {
      "cell_type": "code",
      "source": [
        "# Convert tensor to OpenCV image\n",
        "def tensor_toimage(tensor):\n",
        "    tensor = tensor * 255\n",
        "    tensor = tf.cast(tensor, tf.uint8)\n",
        "    np_image = tensor.numpy()\n",
        "    if len(np_image.shape) > 3:\n",
        "        np_image = np_image[0]\n",
        "    return cv2.cvtColor(np_image, cv2.COLOR_RGB2BGR)"
      ],
      "metadata": {
        "id": "l2MjAM7pYyt7"
      },
      "execution_count": null,
      "outputs": []
    },
    {
      "cell_type": "code",
      "source": [
        "style_path = \"/content/style.jpg\"  # Upload this file in Colab\n",
        "style_image = cv2.imread(style_path)\n",
        "style_image = cv2.cvtColor(style_image, cv2.COLOR_BGR2RGB)\n",
        "style_image = image_read(style_image)\n"
      ],
      "metadata": {
        "id": "XTIMMXVhY0Hs"
      },
      "execution_count": null,
      "outputs": []
    },
    {
      "cell_type": "code",
      "source": [
        "video_path = \"/content/video.mp4\"  # Upload this file in Colab\n",
        "cap = cv2.VideoCapture(video_path)"
      ],
      "metadata": {
        "id": "3_ueenfnY1tq"
      },
      "execution_count": null,
      "outputs": []
    },
    {
      "cell_type": "code",
      "source": [
        "ret, first_frame = cap.read()\n",
        "if not ret:\n",
        "    raise Exception(\"Couldn't read video.\")\n",
        "height, width, _ = first_frame.shape"
      ],
      "metadata": {
        "id": "6zO5But6Y6Lg"
      },
      "execution_count": null,
      "outputs": []
    },
    {
      "cell_type": "code",
      "source": [
        "# Output video writer\n",
        "output_path = '/content/output.mp4'\n",
        "out = cv2.VideoWriter(output_path, cv2.VideoWriter_fourcc(*'mp4v'), 10, (width, height))\n"
      ],
      "metadata": {
        "id": "mA2_GBMtZAaq"
      },
      "execution_count": null,
      "outputs": []
    },
    {
      "cell_type": "code",
      "source": [
        "cap.set(cv2.CAP_PROP_POS_FRAMES, 0)"
      ],
      "metadata": {
        "colab": {
          "base_uri": "https://localhost:8080/"
        },
        "id": "6M_KPyL1ZCuN",
        "outputId": "8e0b3d51-e4dd-474d-a240-1a120fa10069"
      },
      "execution_count": null,
      "outputs": [
        {
          "output_type": "execute_result",
          "data": {
            "text/plain": [
              "True"
            ]
          },
          "metadata": {},
          "execution_count": 11
        }
      ]
    },
    {
      "cell_type": "code",
      "source": [
        "frame_count = 0\n",
        "while True:\n",
        "    ret, frame = cap.read()\n",
        "    if not ret:\n",
        "        break\n",
        "    rgb_frame = cv2.cvtColor(frame, cv2.COLOR_BGR2RGB)\n",
        "    content_image = image_read(rgb_frame)\n",
        "    stylized_image = hub_model(tf.constant(content_image), tf.constant(style_image))[0]\n",
        "    output_frame = tensor_toimage(stylized_image)\n",
        "    output_frame = cv2.resize(output_frame, (width, height))  # Resize to original\n",
        "    out.write(output_frame)\n",
        "    frame_count += 1\n",
        "    if frame_count % 10 == 0:\n",
        "        print(f\"Processed {frame_count} frames...\")\n",
        "cap.release()\n",
        "out.release()\n",
        "print(\"Style transferred video saved at:\", output_path)"
      ],
      "metadata": {
        "colab": {
          "base_uri": "https://localhost:8080/"
        },
        "id": "Ti1drGnSZEfv",
        "outputId": "2db26827-c225-4069-9b65-109a56dfa3ab"
      },
      "execution_count": null,
      "outputs": [
        {
          "output_type": "stream",
          "name": "stdout",
          "text": [
            "Processed 10 frames...\n",
            "Processed 20 frames...\n",
            "Processed 30 frames...\n",
            "Processed 40 frames...\n",
            "Processed 50 frames...\n",
            "Processed 60 frames...\n",
            "Processed 70 frames...\n",
            "Processed 80 frames...\n",
            "Processed 90 frames...\n",
            "Processed 100 frames...\n",
            "Processed 110 frames...\n",
            "Processed 120 frames...\n",
            "Processed 130 frames...\n",
            "Processed 140 frames...\n",
            "Processed 150 frames...\n",
            "Processed 160 frames...\n",
            "Processed 170 frames...\n",
            "Processed 180 frames...\n",
            "Processed 190 frames...\n",
            "Processed 200 frames...\n",
            "Processed 210 frames...\n",
            "Processed 220 frames...\n",
            "Processed 230 frames...\n",
            "Processed 240 frames...\n",
            "Processed 250 frames...\n",
            "Processed 260 frames...\n",
            "Processed 270 frames...\n",
            "Processed 280 frames...\n",
            "Processed 290 frames...\n",
            "Processed 300 frames...\n",
            "Processed 310 frames...\n",
            "Processed 320 frames...\n",
            "Processed 330 frames...\n",
            "Processed 340 frames...\n",
            "Processed 350 frames...\n",
            "Processed 360 frames...\n",
            "Processed 370 frames...\n",
            "Processed 380 frames...\n",
            "Processed 390 frames...\n",
            "Processed 400 frames...\n",
            "Processed 410 frames...\n",
            "Processed 420 frames...\n",
            "Processed 430 frames...\n",
            "Processed 440 frames...\n",
            "Processed 450 frames...\n",
            "Processed 460 frames...\n",
            "Style transferred video saved at: /content/output.mp4\n"
          ]
        }
      ]
    },
    {
      "cell_type": "code",
      "source": [],
      "metadata": {
        "id": "_A-gNpIOZW1o"
      },
      "execution_count": null,
      "outputs": []
    }
  ]
}