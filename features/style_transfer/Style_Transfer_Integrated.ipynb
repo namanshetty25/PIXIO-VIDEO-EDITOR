{
  "cells": [
    {
      "cell_type": "code",
      "execution_count": null,
      "metadata": {
        "colab": {
          "base_uri": "https://localhost:8080/"
        },
        "id": "7zHaBaF2mWND",
        "outputId": "7d7f120d-bc25-4df9-f827-38829ec8ba93"
      },
      "outputs": [],
      "source": [
        "!pip install fastapi uvicorn python-multipart pyngrok tensorflow tensorflow-hub opencv-python-headless\n"
      ]
    },
    {
      "cell_type": "code",
      "execution_count": null,
      "metadata": {
        "colab": {
          "base_uri": "https://localhost:8080/"
        },
        "id": "V4GLiq6z-GFF",
        "outputId": "b7dfacf5-582a-4707-b3fe-249597277c34"
      },
      "outputs": [],
      "source": [
        "!pip install -q fastapi uvicorn python-multipart pyngrok tensorflow tensorflow-hub opencv-python-headless nest-asyncio\n",
        "\n",
        "# Imports\n",
        "import os\n",
        "import cv2\n",
        "import numpy as np\n",
        "import requests\n",
        "import threading\n",
        "import tensorflow as tf\n",
        "import tensorflow_hub as hub\n",
        "import nest_asyncio\n",
        "from fastapi import FastAPI, Form\n",
        "from fastapi.responses import FileResponse\n",
        "import uvicorn\n",
        "from pyngrok import ngrok\n",
        "\n",
        "nest_asyncio.apply()\n",
        "\n",
        "!ngrok config add-authtoken ngrok_token_here\n",
        "\n",
        "app = FastAPI()\n",
        "\n",
        "print(\"Loading style transfer model...\")\n",
        "hub_model = hub.load('https://tfhub.dev/google/magenta/arbitrary-image-stylization-v1-256/2')\n",
        "print(\"Model loaded.\")\n",
        "\n",
        "# Helper: Prepare image for model\n",
        "def image_read(image_np):\n",
        "    max_dim = 512\n",
        "    image = tf.convert_to_tensor(image_np, dtype=tf.float32)\n",
        "    image = image / 255.0\n",
        "    shape = tf.cast(tf.shape(image)[:-1], tf.float32)\n",
        "    long_dim = max(shape)\n",
        "    scale = max_dim / long_dim\n",
        "    new_shape = tf.cast(shape * scale, tf.int32)\n",
        "    image = tf.image.resize(image, new_shape)\n",
        "    image = image[tf.newaxis, :]\n",
        "    return image\n",
        "\n",
        "# Helper: Convert tensor to OpenCV image\n",
        "def tensor_toimage(tensor):\n",
        "    tensor = tensor * 255\n",
        "    tensor = tf.cast(tensor, tf.uint8)\n",
        "    np_image = tensor.numpy()\n",
        "    if len(np_image.shape) > 3:\n",
        "        np_image = np_image[0]\n",
        "    return cv2.cvtColor(np_image, cv2.COLOR_RGB2BGR)\n",
        "\n",
        "# Endpoint: Video style transfer\n",
        "@app.post(\"/stylize/\")\n",
        "async def stylize_video(style_num: int = Form(...), video_url: str = Form(...)):\n",
        "    try:\n",
        "        artworks_dir = \"/content/Artworks/\"\n",
        "        os.makedirs(artworks_dir, exist_ok=True)\n",
        "\n",
        "        style_path = os.path.join(artworks_dir, f\"{style_num}.jpg\")\n",
        "        input_path = \"/content/input.mp4\"\n",
        "        temp_output_path = \"/content/temp_stylized.mp4\"\n",
        "        final_output_path = \"/content/output_fixed.mp4\"\n",
        "        print(\"Looking for style at:\", style_path)\n",
        "\n",
        "        if not os.path.exists(style_path):\n",
        "            return {\"error\": f\"Style image {style_num}.jpg not found in /content/Artworks.\"}\n",
        "\n",
        "        print(\"Downloading video...\")\n",
        "        video = requests.get(video_url, stream=True)\n",
        "        with open(input_path, \"wb\") as f:\n",
        "            f.write(video.content)\n",
        "\n",
        "        print(f\"Using style image: {style_path}\")\n",
        "        style_image = cv2.imread(style_path)\n",
        "        style_image = cv2.cvtColor(style_image, cv2.COLOR_BGR2RGB)\n",
        "        style_image = image_read(style_image)\n",
        "\n",
        "        cap = cv2.VideoCapture(input_path)\n",
        "        fps = cap.get(cv2.CAP_PROP_FPS)  # Get FPS from input video\n",
        "        ret, first_frame = cap.read()\n",
        "        if not ret:\n",
        "            raise Exception(\"Couldn't read video.\")\n",
        "        height, width, _ = first_frame.shape\n",
        "        out = cv2.VideoWriter(temp_output_path, cv2.VideoWriter_fourcc(*'mp4v'), fps, (width, height))\n",
        "        cap.set(cv2.CAP_PROP_POS_FRAMES, 0)\n",
        "\n",
        "        frame_count = 0\n",
        "        while True:\n",
        "            ret, frame = cap.read()\n",
        "            if not ret:\n",
        "                break\n",
        "            rgb_frame = cv2.cvtColor(frame, cv2.COLOR_BGR2RGB)\n",
        "            content_image = image_read(rgb_frame)\n",
        "            stylized_image = hub_model(tf.constant(content_image), tf.constant(style_image))[0]\n",
        "            output_frame = tensor_toimage(stylized_image)\n",
        "            output_frame = cv2.resize(output_frame, (width, height))\n",
        "            out.write(output_frame)\n",
        "\n",
        "            frame_count += 1\n",
        "            if frame_count % 10 == 0:\n",
        "                print(f\"Processed {frame_count} frames...\")\n",
        "\n",
        "        cap.release()\n",
        "        out.release()\n",
        "        print(\"🎞️ Initial style transfer done. Now re-encoding...\")\n",
        "\n",
        "        # Re-encode with H.264 + AAC to ensure Cloudinary compatibility\n",
        "        os.system(f\"ffmpeg -y -i {temp_output_path} -c:v libx264 -preset fast -crf 23 -pix_fmt yuv420p -movflags +faststart {final_output_path}\")\n",
        "\n",
        "        print(\"Video re-encoded successfully.\")\n",
        "        return FileResponse(final_output_path, media_type=\"video/mp4\", filename=\"output_fixed.mp4\")\n",
        "\n",
        "    except Exception as e:\n",
        "        print(\"ERROR:\", str(e))\n",
        "        return {\"error\": str(e)}\n"
      ]
    },
    {
      "cell_type": "code",
      "execution_count": null,
      "metadata": {
        "colab": {
          "base_uri": "https://localhost:8080/"
        },
        "id": "ZeiRBBxrGFxf",
        "outputId": "23e3bfc1-ad4f-433b-9dcf-6f5695c1c2e0"
      },
      "outputs": [],
      "source": [
        "!pip install nest_asyncio\n",
        "import nest_asyncio\n",
        "\n",
        "nest_asyncio.apply()"
      ]
    },
    {
      "cell_type": "code",
      "execution_count": null,
      "metadata": {
        "colab": {
          "base_uri": "https://localhost:8080/"
        },
        "id": "UcW8t-pwmgaV",
        "outputId": "6943fcf9-8036-491b-8ee3-e4d2878da6c1"
      },
      "outputs": [],
      "source": [
        "import threading\n",
        "import uvicorn\n",
        "from pyngrok import ngrok\n",
        "\n",
        "# Start FastAPI server in background\n",
        "def run():\n",
        "    uvicorn.run(app, host=\"0.0.0.0\", port=8004)\n",
        "\n",
        "\n",
        "thread = threading.Thread(target=run)\n",
        "thread.start()\n",
        "\n",
        "#  Start ngrok tunnel\n",
        "public_url = ngrok.connect(8004)\n",
        "print(\"🚀 Public URL:\", public_url)\n"
      ]
    },
    {
      "cell_type": "code",
      "execution_count": null,
      "metadata": {
        "colab": {
          "base_uri": "https://localhost:8080/"
        },
        "id": "hiTKYANHmhnM",
        "outputId": "0d9eab4a-b059-43ef-a50d-69d3f3b8df7c"
      },
      "outputs": [],
      "source": [
        "# !curl -X POST \"https://d62cbe59d2e6.ngrok-free.app/stylize/\" -F style_num=16 -F video_url=https://res.cloudinary.com/dfmdmqz4k/video/upload/v1753874203/short_test_bk2mlm.mp4 --output stylized_result.mp4\n"
      ]
    },
    {
      "cell_type": "code",
      "execution_count": null,
      "metadata": {
        "colab": {
          "base_uri": "https://localhost:8080/"
        },
        "id": "P4U4IFp9ydEs",
        "outputId": "d1ea526f-51c5-4f8d-f1c8-2b75c8cc7faa"
      },
      "outputs": [],
      "source": [
        "!ngrok kill"
      ]
    },
    {
      "cell_type": "code",
      "execution_count": null,
      "metadata": {
        "id": "ugy57m6OFTPu"
      },
      "outputs": [],
      "source": []
    }
  ],
  "metadata": {
    "accelerator": "GPU",
    "colab": {
      "gpuType": "T4",
      "provenance": []
    },
    "kernelspec": {
      "display_name": "Python 3",
      "name": "python3"
    },
    "language_info": {
      "name": "python"
    }
  },
  "nbformat": 4,
  "nbformat_minor": 0
}
